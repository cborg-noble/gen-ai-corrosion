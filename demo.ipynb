{
 "cells": [
  {
   "cell_type": "code",
   "execution_count": 30,
   "metadata": {},
   "outputs": [],
   "source": [
    "import deepchem as dc\n",
    "import pandas as pd\n",
    "\n",
    "df = pd.read_csv('ci_smiles_ml.csv')\n",
    "smiles = [str(x).upper() for x in df['SMILES']]\n",
    "\n",
    "rdkit_featurizer = dc.feat.RDKitDescriptors()\n",
    "features = rdkit_featurizer(smiles)\n",
    "\n",
    "df_featurized = pd.DataFrame(features, columns=rdkit_featurizer.descriptors)\n",
    "df_featurized['SMILES'] = smiles\n",
    "df_featurized['CorrosionRate'] = df['CorrosionRate']"
   ]
  },
  {
   "cell_type": "code",
   "execution_count": 31,
   "metadata": {},
   "outputs": [
    {
     "name": "stdout",
     "output_type": "stream",
     "text": [
      "0.105\n"
     ]
    },
    {
     "name": "stderr",
     "output_type": "stream",
     "text": [
      "/Users/cborg/.pyenv/versions/3.11.2/lib/python3.11/site-packages/sklearn/metrics/_regression.py:483: FutureWarning:\n",
      "\n",
      "'squared' is deprecated in version 1.4 and will be removed in 1.6. To calculate the root mean squared error, use the function'root_mean_squared_error'.\n",
      "\n"
     ]
    }
   ],
   "source": [
    "from sklearn.ensemble import RandomForestRegressor\n",
    "from sklearn.model_selection import cross_val_predict\n",
    "from sklearn.metrics import mean_squared_error\n",
    "\n",
    "X = df_featurized[rdkit_featurizer.descriptors]\n",
    "\n",
    "output= 'CorrosionRate'\n",
    "y = df_featurized[output]\n",
    "\n",
    "\n",
    "rf = RandomForestRegressor()\n",
    "rf.fit(X, y)\n",
    "y_pred = cross_val_predict(rf, X, y, cv=5)\n",
    "df_featurized[output+'_pred'] = y_pred\n",
    "rmse = round(mean_squared_error(y, y_pred, squared=False), 3)\n",
    "print(rmse)\n",
    "\n"
   ]
  },
  {
   "cell_type": "code",
   "execution_count": 32,
   "metadata": {},
   "outputs": [
    {
     "data": {
      "application/vnd.plotly.v1+json": {
       "config": {
        "plotlyServerURL": "https://plot.ly"
       },
       "data": [
        {
         "hovertemplate": "CorrosionRate=%{x}<br>CorrosionRate_pred=%{y}<extra></extra>",
         "legendgroup": "",
         "marker": {
          "color": "#636efa",
          "line": {
           "color": "DarkSlateGrey",
           "width": 2
          },
          "size": 12,
          "symbol": "circle"
         },
         "mode": "markers",
         "name": "",
         "orientation": "v",
         "showlegend": false,
         "type": "scatter",
         "x": [
          0.2,
          0.21,
          0.22,
          0.26,
          0.32,
          0.38,
          0.39,
          0.42,
          0.43,
          0.49,
          0.59,
          0.6,
          0.67,
          0.74,
          0.77,
          0.85,
          0.93,
          1,
          1.06,
          0.2,
          0.24,
          0.32,
          0.35,
          0.38,
          0.48,
          0.55,
          0.56,
          0.56,
          0.6,
          0.68,
          0.73,
          0.74,
          0.82,
          0.9,
          0.99,
          1.05,
          1.13,
          1.21,
          0.2,
          0.26,
          0.3,
          0.32,
          0.4,
          0.41,
          0.46,
          0.47,
          0.52,
          0.58,
          0.63,
          0.73,
          0.8,
          0.8,
          0.9,
          0.95,
          0.99,
          1,
          1.04,
          0.2,
          0.29,
          0.31,
          0.35,
          0.43,
          0.48,
          0.52,
          0.6,
          0.67,
          0.69,
          0.79,
          0.8,
          0.83,
          0.85,
          0.87,
          0.87,
          0.89,
          0.99,
          1.02
         ],
         "xaxis": "x",
         "y": [
          0.3616512518037517,
          0.26011031746031743,
          0.3096814285714285,
          0.34569071428571446,
          0.40672309523809524,
          0.452698333333333,
          0.3616512518037517,
          0.5477445238095239,
          0.6025069841269841,
          0.6044134523809528,
          0.7183359523809523,
          0.9050717507492511,
          0.7784704761904757,
          0.8092911904761901,
          0.8776927380952384,
          0.9170264285714286,
          0.9567515873015874,
          0.8666866341991342,
          1.0768041666666672,
          0.3387520129870129,
          0.26297357142857136,
          0.28191738095238106,
          0.30847666666666673,
          0.4154097619047617,
          0.42469388888888887,
          0.3387520129870129,
          0.4945509415584418,
          0.5654988095238096,
          0.5726426190476189,
          0.6919510317460316,
          0.8666866341991342,
          0.7642047619047616,
          0.7820560317460319,
          0.8465078571428569,
          0.8788728571428572,
          0.9004921428571424,
          0.8364738777888782,
          1.0291547619047625,
          0.3500288455988458,
          0.2537253571428572,
          0.28684388888888895,
          0.33304976190476226,
          0.3957439285714288,
          0.4441904761904758,
          0.3500288455988458,
          0.5255958730158728,
          0.5762302380952383,
          0.5939361507936511,
          0.6897957142857145,
          0.8720434920634921,
          0.7270492063492064,
          0.8005828571428569,
          0.8432398809523812,
          0.8862943650793654,
          0.911931904761905,
          0.8720434920634921,
          1.0679888528138524,
          0.35516257992008016,
          0.25045595238095253,
          0.28317523809523804,
          0.3105707142857143,
          0.38904392857142867,
          0.41941642857142847,
          0.31993551531801523,
          0.48024515873015916,
          0.5063007142857142,
          0.5456955952380953,
          0.6500811904761906,
          0.8594294552669548,
          0.7300071428571425,
          0.7720820634920635,
          0.8482792857142857,
          0.909838095238095,
          0.9815642857142859,
          0.8594294552669548,
          1.102645714285714
         ],
         "yaxis": "y"
        },
        {
         "marker": {
          "line": {
           "color": "DarkSlateGrey",
           "width": 2
          },
          "size": 12
         },
         "mode": "lines",
         "type": "scatter",
         "x": [
          0,
          1.5
         ],
         "y": [
          0,
          1.5
         ]
        }
       ],
       "layout": {
        "annotations": [
         {
          "arrowhead": 1,
          "showarrow": false,
          "text": "RMSE: 0.105",
          "x": 0.5,
          "y": 1.5
         }
        ],
        "font": {
         "family": "inter",
         "size": 14
        },
        "height": 400,
        "legend": {
         "tracegroupgap": 0
        },
        "margin": {
         "t": 60
        },
        "showlegend": false,
        "template": {
         "data": {
          "bar": [
           {
            "error_x": {
             "color": "#2a3f5f"
            },
            "error_y": {
             "color": "#2a3f5f"
            },
            "marker": {
             "line": {
              "color": "#E5ECF6",
              "width": 0.5
             },
             "pattern": {
              "fillmode": "overlay",
              "size": 10,
              "solidity": 0.2
             }
            },
            "type": "bar"
           }
          ],
          "barpolar": [
           {
            "marker": {
             "line": {
              "color": "#E5ECF6",
              "width": 0.5
             },
             "pattern": {
              "fillmode": "overlay",
              "size": 10,
              "solidity": 0.2
             }
            },
            "type": "barpolar"
           }
          ],
          "carpet": [
           {
            "aaxis": {
             "endlinecolor": "#2a3f5f",
             "gridcolor": "white",
             "linecolor": "white",
             "minorgridcolor": "white",
             "startlinecolor": "#2a3f5f"
            },
            "baxis": {
             "endlinecolor": "#2a3f5f",
             "gridcolor": "white",
             "linecolor": "white",
             "minorgridcolor": "white",
             "startlinecolor": "#2a3f5f"
            },
            "type": "carpet"
           }
          ],
          "choropleth": [
           {
            "colorbar": {
             "outlinewidth": 0,
             "ticks": ""
            },
            "type": "choropleth"
           }
          ],
          "contour": [
           {
            "colorbar": {
             "outlinewidth": 0,
             "ticks": ""
            },
            "colorscale": [
             [
              0,
              "#0d0887"
             ],
             [
              0.1111111111111111,
              "#46039f"
             ],
             [
              0.2222222222222222,
              "#7201a8"
             ],
             [
              0.3333333333333333,
              "#9c179e"
             ],
             [
              0.4444444444444444,
              "#bd3786"
             ],
             [
              0.5555555555555556,
              "#d8576b"
             ],
             [
              0.6666666666666666,
              "#ed7953"
             ],
             [
              0.7777777777777778,
              "#fb9f3a"
             ],
             [
              0.8888888888888888,
              "#fdca26"
             ],
             [
              1,
              "#f0f921"
             ]
            ],
            "type": "contour"
           }
          ],
          "contourcarpet": [
           {
            "colorbar": {
             "outlinewidth": 0,
             "ticks": ""
            },
            "type": "contourcarpet"
           }
          ],
          "heatmap": [
           {
            "colorbar": {
             "outlinewidth": 0,
             "ticks": ""
            },
            "colorscale": [
             [
              0,
              "#0d0887"
             ],
             [
              0.1111111111111111,
              "#46039f"
             ],
             [
              0.2222222222222222,
              "#7201a8"
             ],
             [
              0.3333333333333333,
              "#9c179e"
             ],
             [
              0.4444444444444444,
              "#bd3786"
             ],
             [
              0.5555555555555556,
              "#d8576b"
             ],
             [
              0.6666666666666666,
              "#ed7953"
             ],
             [
              0.7777777777777778,
              "#fb9f3a"
             ],
             [
              0.8888888888888888,
              "#fdca26"
             ],
             [
              1,
              "#f0f921"
             ]
            ],
            "type": "heatmap"
           }
          ],
          "heatmapgl": [
           {
            "colorbar": {
             "outlinewidth": 0,
             "ticks": ""
            },
            "colorscale": [
             [
              0,
              "#0d0887"
             ],
             [
              0.1111111111111111,
              "#46039f"
             ],
             [
              0.2222222222222222,
              "#7201a8"
             ],
             [
              0.3333333333333333,
              "#9c179e"
             ],
             [
              0.4444444444444444,
              "#bd3786"
             ],
             [
              0.5555555555555556,
              "#d8576b"
             ],
             [
              0.6666666666666666,
              "#ed7953"
             ],
             [
              0.7777777777777778,
              "#fb9f3a"
             ],
             [
              0.8888888888888888,
              "#fdca26"
             ],
             [
              1,
              "#f0f921"
             ]
            ],
            "type": "heatmapgl"
           }
          ],
          "histogram": [
           {
            "marker": {
             "pattern": {
              "fillmode": "overlay",
              "size": 10,
              "solidity": 0.2
             }
            },
            "type": "histogram"
           }
          ],
          "histogram2d": [
           {
            "colorbar": {
             "outlinewidth": 0,
             "ticks": ""
            },
            "colorscale": [
             [
              0,
              "#0d0887"
             ],
             [
              0.1111111111111111,
              "#46039f"
             ],
             [
              0.2222222222222222,
              "#7201a8"
             ],
             [
              0.3333333333333333,
              "#9c179e"
             ],
             [
              0.4444444444444444,
              "#bd3786"
             ],
             [
              0.5555555555555556,
              "#d8576b"
             ],
             [
              0.6666666666666666,
              "#ed7953"
             ],
             [
              0.7777777777777778,
              "#fb9f3a"
             ],
             [
              0.8888888888888888,
              "#fdca26"
             ],
             [
              1,
              "#f0f921"
             ]
            ],
            "type": "histogram2d"
           }
          ],
          "histogram2dcontour": [
           {
            "colorbar": {
             "outlinewidth": 0,
             "ticks": ""
            },
            "colorscale": [
             [
              0,
              "#0d0887"
             ],
             [
              0.1111111111111111,
              "#46039f"
             ],
             [
              0.2222222222222222,
              "#7201a8"
             ],
             [
              0.3333333333333333,
              "#9c179e"
             ],
             [
              0.4444444444444444,
              "#bd3786"
             ],
             [
              0.5555555555555556,
              "#d8576b"
             ],
             [
              0.6666666666666666,
              "#ed7953"
             ],
             [
              0.7777777777777778,
              "#fb9f3a"
             ],
             [
              0.8888888888888888,
              "#fdca26"
             ],
             [
              1,
              "#f0f921"
             ]
            ],
            "type": "histogram2dcontour"
           }
          ],
          "mesh3d": [
           {
            "colorbar": {
             "outlinewidth": 0,
             "ticks": ""
            },
            "type": "mesh3d"
           }
          ],
          "parcoords": [
           {
            "line": {
             "colorbar": {
              "outlinewidth": 0,
              "ticks": ""
             }
            },
            "type": "parcoords"
           }
          ],
          "pie": [
           {
            "automargin": true,
            "type": "pie"
           }
          ],
          "scatter": [
           {
            "fillpattern": {
             "fillmode": "overlay",
             "size": 10,
             "solidity": 0.2
            },
            "type": "scatter"
           }
          ],
          "scatter3d": [
           {
            "line": {
             "colorbar": {
              "outlinewidth": 0,
              "ticks": ""
             }
            },
            "marker": {
             "colorbar": {
              "outlinewidth": 0,
              "ticks": ""
             }
            },
            "type": "scatter3d"
           }
          ],
          "scattercarpet": [
           {
            "marker": {
             "colorbar": {
              "outlinewidth": 0,
              "ticks": ""
             }
            },
            "type": "scattercarpet"
           }
          ],
          "scattergeo": [
           {
            "marker": {
             "colorbar": {
              "outlinewidth": 0,
              "ticks": ""
             }
            },
            "type": "scattergeo"
           }
          ],
          "scattergl": [
           {
            "marker": {
             "colorbar": {
              "outlinewidth": 0,
              "ticks": ""
             }
            },
            "type": "scattergl"
           }
          ],
          "scattermapbox": [
           {
            "marker": {
             "colorbar": {
              "outlinewidth": 0,
              "ticks": ""
             }
            },
            "type": "scattermapbox"
           }
          ],
          "scatterpolar": [
           {
            "marker": {
             "colorbar": {
              "outlinewidth": 0,
              "ticks": ""
             }
            },
            "type": "scatterpolar"
           }
          ],
          "scatterpolargl": [
           {
            "marker": {
             "colorbar": {
              "outlinewidth": 0,
              "ticks": ""
             }
            },
            "type": "scatterpolargl"
           }
          ],
          "scatterternary": [
           {
            "marker": {
             "colorbar": {
              "outlinewidth": 0,
              "ticks": ""
             }
            },
            "type": "scatterternary"
           }
          ],
          "surface": [
           {
            "colorbar": {
             "outlinewidth": 0,
             "ticks": ""
            },
            "colorscale": [
             [
              0,
              "#0d0887"
             ],
             [
              0.1111111111111111,
              "#46039f"
             ],
             [
              0.2222222222222222,
              "#7201a8"
             ],
             [
              0.3333333333333333,
              "#9c179e"
             ],
             [
              0.4444444444444444,
              "#bd3786"
             ],
             [
              0.5555555555555556,
              "#d8576b"
             ],
             [
              0.6666666666666666,
              "#ed7953"
             ],
             [
              0.7777777777777778,
              "#fb9f3a"
             ],
             [
              0.8888888888888888,
              "#fdca26"
             ],
             [
              1,
              "#f0f921"
             ]
            ],
            "type": "surface"
           }
          ],
          "table": [
           {
            "cells": {
             "fill": {
              "color": "#EBF0F8"
             },
             "line": {
              "color": "white"
             }
            },
            "header": {
             "fill": {
              "color": "#C8D4E3"
             },
             "line": {
              "color": "white"
             }
            },
            "type": "table"
           }
          ]
         },
         "layout": {
          "annotationdefaults": {
           "arrowcolor": "#2a3f5f",
           "arrowhead": 0,
           "arrowwidth": 1
          },
          "autotypenumbers": "strict",
          "coloraxis": {
           "colorbar": {
            "outlinewidth": 0,
            "ticks": ""
           }
          },
          "colorscale": {
           "diverging": [
            [
             0,
             "#8e0152"
            ],
            [
             0.1,
             "#c51b7d"
            ],
            [
             0.2,
             "#de77ae"
            ],
            [
             0.3,
             "#f1b6da"
            ],
            [
             0.4,
             "#fde0ef"
            ],
            [
             0.5,
             "#f7f7f7"
            ],
            [
             0.6,
             "#e6f5d0"
            ],
            [
             0.7,
             "#b8e186"
            ],
            [
             0.8,
             "#7fbc41"
            ],
            [
             0.9,
             "#4d9221"
            ],
            [
             1,
             "#276419"
            ]
           ],
           "sequential": [
            [
             0,
             "#0d0887"
            ],
            [
             0.1111111111111111,
             "#46039f"
            ],
            [
             0.2222222222222222,
             "#7201a8"
            ],
            [
             0.3333333333333333,
             "#9c179e"
            ],
            [
             0.4444444444444444,
             "#bd3786"
            ],
            [
             0.5555555555555556,
             "#d8576b"
            ],
            [
             0.6666666666666666,
             "#ed7953"
            ],
            [
             0.7777777777777778,
             "#fb9f3a"
            ],
            [
             0.8888888888888888,
             "#fdca26"
            ],
            [
             1,
             "#f0f921"
            ]
           ],
           "sequentialminus": [
            [
             0,
             "#0d0887"
            ],
            [
             0.1111111111111111,
             "#46039f"
            ],
            [
             0.2222222222222222,
             "#7201a8"
            ],
            [
             0.3333333333333333,
             "#9c179e"
            ],
            [
             0.4444444444444444,
             "#bd3786"
            ],
            [
             0.5555555555555556,
             "#d8576b"
            ],
            [
             0.6666666666666666,
             "#ed7953"
            ],
            [
             0.7777777777777778,
             "#fb9f3a"
            ],
            [
             0.8888888888888888,
             "#fdca26"
            ],
            [
             1,
             "#f0f921"
            ]
           ]
          },
          "colorway": [
           "#636efa",
           "#EF553B",
           "#00cc96",
           "#ab63fa",
           "#FFA15A",
           "#19d3f3",
           "#FF6692",
           "#B6E880",
           "#FF97FF",
           "#FECB52"
          ],
          "font": {
           "color": "#2a3f5f"
          },
          "geo": {
           "bgcolor": "white",
           "lakecolor": "white",
           "landcolor": "#E5ECF6",
           "showlakes": true,
           "showland": true,
           "subunitcolor": "white"
          },
          "hoverlabel": {
           "align": "left"
          },
          "hovermode": "closest",
          "mapbox": {
           "style": "light"
          },
          "paper_bgcolor": "white",
          "plot_bgcolor": "#E5ECF6",
          "polar": {
           "angularaxis": {
            "gridcolor": "white",
            "linecolor": "white",
            "ticks": ""
           },
           "bgcolor": "#E5ECF6",
           "radialaxis": {
            "gridcolor": "white",
            "linecolor": "white",
            "ticks": ""
           }
          },
          "scene": {
           "xaxis": {
            "backgroundcolor": "#E5ECF6",
            "gridcolor": "white",
            "gridwidth": 2,
            "linecolor": "white",
            "showbackground": true,
            "ticks": "",
            "zerolinecolor": "white"
           },
           "yaxis": {
            "backgroundcolor": "#E5ECF6",
            "gridcolor": "white",
            "gridwidth": 2,
            "linecolor": "white",
            "showbackground": true,
            "ticks": "",
            "zerolinecolor": "white"
           },
           "zaxis": {
            "backgroundcolor": "#E5ECF6",
            "gridcolor": "white",
            "gridwidth": 2,
            "linecolor": "white",
            "showbackground": true,
            "ticks": "",
            "zerolinecolor": "white"
           }
          },
          "shapedefaults": {
           "line": {
            "color": "#2a3f5f"
           }
          },
          "ternary": {
           "aaxis": {
            "gridcolor": "white",
            "linecolor": "white",
            "ticks": ""
           },
           "baxis": {
            "gridcolor": "white",
            "linecolor": "white",
            "ticks": ""
           },
           "bgcolor": "#E5ECF6",
           "caxis": {
            "gridcolor": "white",
            "linecolor": "white",
            "ticks": ""
           }
          },
          "title": {
           "x": 0.05
          },
          "xaxis": {
           "automargin": true,
           "gridcolor": "white",
           "linecolor": "white",
           "ticks": "",
           "title": {
            "standoff": 15
           },
           "zerolinecolor": "white",
           "zerolinewidth": 2
          },
          "yaxis": {
           "automargin": true,
           "gridcolor": "white",
           "linecolor": "white",
           "ticks": "",
           "title": {
            "standoff": 15
           },
           "zerolinecolor": "white",
           "zerolinewidth": 2
          }
         }
        },
        "width": 400,
        "xaxis": {
         "anchor": "y",
         "domain": [
          0,
          1
         ],
         "title": {
          "font": {
           "family": "Inter"
          },
          "text": "CorrosionRate"
         }
        },
        "yaxis": {
         "anchor": "x",
         "domain": [
          0,
          1
         ],
         "title": {
          "text": "CorrosionRate_pred"
         }
        }
       }
      }
     },
     "metadata": {},
     "output_type": "display_data"
    }
   ],
   "source": [
    "import plotly.express as px\n",
    "import plotly.graph_objects as go\n",
    "\n",
    "fig = px.scatter(df_featurized, x=output, y=output+'_pred')\n",
    "fig.add_trace(go.Scatter(x=[0,1.5], y=[0,1.5],mode='lines'))\n",
    "fig.update_traces(marker={'size': 12, 'line_width':2, 'line_color':'DarkSlateGrey'})\n",
    "fig.update_layout(height=400, width=400, showlegend=False, font_family='inter', font_size=14)\n",
    "\n",
    "fig.update_xaxes(title_font_family=\"Inter\")\n",
    "\n",
    "fig.add_annotation(x=0.5, y=1.5,\n",
    "            text=\"RMSE: {}\".format(rmse),\n",
    "            showarrow=False,\n",
    "            arrowhead=1)\n",
    "\n",
    "fig.show()"
   ]
  },
  {
   "cell_type": "code",
   "execution_count": 37,
   "metadata": {},
   "outputs": [
    {
     "data": {
      "application/vnd.plotly.v1+json": {
       "config": {
        "plotlyServerURL": "https://plot.ly"
       },
       "data": [
        {
         "hovertemplate": "<b>%{hovertext}</b><br><br>Group=Triazole<br>X1=%{x}<br>X2=%{y}<extra></extra>",
         "hovertext": [
          "Benzotriazole",
          "Triazole derivatives",
          "Benzotriazole",
          "Triazole derivatives",
          "Benzotriazole",
          "Triazole derivatives",
          "Benzotriazole",
          "Triazole derivatives"
         ],
         "legendgroup": "Triazole",
         "marker": {
          "color": "#636efa",
          "line": {
           "color": "DarkSlateGrey",
           "width": 2
          },
          "size": 12,
          "symbol": "circle"
         },
         "mode": "markers",
         "name": "Triazole",
         "orientation": "v",
         "showlegend": true,
         "type": "scatter",
         "x": [
          273.793212890625,
          -109.9647216796875,
          339.4877014160156,
          -203.53221130371094,
          273.793212890625,
          -203.53221130371094,
          371.8572998046875,
          -203.53221130371094
         ],
         "xaxis": "x",
         "y": [
          -87.7264404296875,
          -537.7806396484375,
          -205.9291534423828,
          -464.3990173339844,
          -87.7264404296875,
          -464.3990173339844,
          25.91209602355957,
          -464.3990173339844
         ],
         "yaxis": "y"
        },
        {
         "hovertemplate": "<b>%{hovertext}</b><br><br>Group=Thiazole<br>X1=%{x}<br>X2=%{y}<extra></extra>",
         "hovertext": [
          "2-Mercaptobenzothiazole",
          "2-Mercaptobenzothiazole",
          "2-Mercaptobenzothiazole",
          "2-Mercaptobenzothiazole"
         ],
         "legendgroup": "Thiazole",
         "marker": {
          "color": "#EF553B",
          "line": {
           "color": "DarkSlateGrey",
           "width": 2
          },
          "size": 12,
          "symbol": "circle"
         },
         "mode": "markers",
         "name": "Thiazole",
         "orientation": "v",
         "showlegend": true,
         "type": "scatter",
         "x": [
          -623.31494140625,
          -623.31494140625,
          -623.31494140625,
          -623.31494140625
         ],
         "xaxis": "x",
         "y": [
          -525.5214233398438,
          -525.5214233398438,
          -525.5214233398438,
          -525.5214233398438
         ],
         "yaxis": "y"
        },
        {
         "hovertemplate": "<b>%{hovertext}</b><br><br>Group=imidazoline<br>X1=%{x}<br>X2=%{y}<extra></extra>",
         "hovertext": [
          "CORR1019 (2-undecyl-1-aminoethyl imidazoline)",
          "CORR1020 (2-undecyl-1-hydroxyethyl imidazoline)",
          "CORR1019 (2-undecyl-1-aminoethyl imidazoline)",
          "CORR1020 (2-undecyl-1-hydroxyethyl imidazoline)",
          "CORR1019 (2-undecyl-1-aminoethyl imidazoline)",
          "CORR1020 (2-undecyl-1-hydroxyethyl imidazoline)",
          "CORR1019 (2-undecyl-1-aminoethyl imidazoline)",
          "CORR1020 (2-undecyl-1-hydroxyethyl imidazoline)"
         ],
         "legendgroup": "imidazoline",
         "marker": {
          "color": "#00cc96",
          "line": {
           "color": "DarkSlateGrey",
           "width": 2
          },
          "size": 12,
          "symbol": "circle"
         },
         "mode": "markers",
         "name": "imidazoline",
         "orientation": "v",
         "showlegend": true,
         "type": "scatter",
         "x": [
          378.58984375,
          839.5174560546875,
          378.58984375,
          839.5174560546875,
          378.58984375,
          839.5174560546875,
          378.58984375,
          839.5174560546875
         ],
         "xaxis": "x",
         "y": [
          717.5327758789062,
          -142.9148712158203,
          717.5327758789062,
          -142.9148712158203,
          717.5327758789062,
          -142.9148712158203,
          717.5327758789062,
          -142.9148712158203
         ],
         "yaxis": "y"
        },
        {
         "hovertemplate": "<b>%{hovertext}</b><br><br>Group=fatty acid triazole<br>X1=%{x}<br>X2=%{y}<extra></extra>",
         "hovertext": [
          "3-undecane-4-aryl-5-mercapto-1,2,4-triazole",
          "1H-benzotriazole",
          "1,3-Benzothiazole ",
          "4-Amino-5-mercapto-1,2,4-triazole ",
          "3-undecane-4-aryl-5-mercapto-1,2,4-triazole",
          "1H-benzotriazole",
          "1,3-Benzothiazole ",
          "4-Amino-5-mercapto-1,2,4-triazole ",
          "3-undecane-4-aryl-5-mercapto-1,2,4-triazole",
          "1H-benzotriazole",
          "1,3-Benzothiazole ",
          "4-Amino-5-mercapto-1,2,4-triazole ",
          "3-undecane-4-aryl-5-mercapto-1,2,4-triazole",
          "1H-benzotriazole",
          "1,3-Benzothiazole ",
          "4-Amino-5-mercapto-1,2,4-triazole "
         ],
         "legendgroup": "fatty acid triazole",
         "marker": {
          "color": "#ab63fa",
          "line": {
           "color": "DarkSlateGrey",
           "width": 2
          },
          "size": 12,
          "symbol": "circle"
         },
         "mode": "markers",
         "name": "fatty acid triazole",
         "orientation": "v",
         "showlegend": true,
         "type": "scatter",
         "x": [
          -62.27493667602539,
          451.85516357421875,
          280.9181213378906,
          -225.95159912109375,
          -62.27493667602539,
          451.85516357421875,
          280.9181213378906,
          -225.95159912109375,
          -62.27493667602539,
          371.8572998046875,
          280.9181213378906,
          -225.95159912109375,
          -21.58387565612793,
          466.9250183105469,
          280.9181213378906,
          -225.95159912109375
         ],
         "xaxis": "x",
         "y": [
          -50.2263298034668,
          -100.6810073852539,
          -808.904541015625,
          316.429443359375,
          -50.2263298034668,
          -100.6810073852539,
          -808.904541015625,
          316.429443359375,
          -50.2263298034668,
          25.91209602355957,
          -808.904541015625,
          316.429443359375,
          58.69785690307617,
          -242.37210083007812,
          -808.904541015625,
          316.429443359375
         ],
         "yaxis": "y"
        },
        {
         "hovertemplate": "<b>%{hovertext}</b><br><br>Group=aromatic heterocycle<br>X1=%{x}<br>X2=%{y}<extra></extra>",
         "hovertext": [
          "indole",
          "indole",
          "indole",
          "indole"
         ],
         "legendgroup": "aromatic heterocycle",
         "marker": {
          "color": "#FFA15A",
          "line": {
           "color": "DarkSlateGrey",
           "width": 2
          },
          "size": 12,
          "symbol": "circle"
         },
         "mode": "markers",
         "name": "aromatic heterocycle",
         "orientation": "v",
         "showlegend": true,
         "type": "scatter",
         "x": [
          136.826904296875,
          204.3202362060547,
          204.3202362060547,
          204.3202362060547
         ],
         "xaxis": "x",
         "y": [
          -372.80108642578125,
          -471.45355224609375,
          -471.45355224609375,
          -471.45355224609375
         ],
         "yaxis": "y"
        },
        {
         "hovertemplate": "<b>%{hovertext}</b><br><br>Group=Dimerized amido-amines<br>X1=%{x}<br>X2=%{y}<extra></extra>",
         "hovertext": [
          "(1H-benzo[d]imidazol-2-yl)methanamine",
          "(1H-benzo[d]imidazol-2-yl)methanamine",
          "(1H-benzo[d]imidazol-2-yl)methanamine",
          "(1H-benzo[d]imidazol-2-yl)methanamine"
         ],
         "legendgroup": "Dimerized amido-amines",
         "marker": {
          "color": "#19d3f3",
          "line": {
           "color": "DarkSlateGrey",
           "width": 2
          },
          "size": 12,
          "symbol": "circle"
         },
         "mode": "markers",
         "name": "Dimerized amido-amines",
         "orientation": "v",
         "showlegend": true,
         "type": "scatter",
         "x": [
          -272.9997253417969,
          -272.9997253417969,
          -272.9997253417969,
          -272.9997253417969
         ],
         "xaxis": "x",
         "y": [
          -777.8036499023438,
          -777.8036499023438,
          -777.8036499023438,
          -777.8036499023438
         ],
         "yaxis": "y"
        },
        {
         "hovertemplate": "<b>%{hovertext}</b><br><br>Group=Phosphonic acid<br>X1=%{x}<br>X2=%{y}<extra></extra>",
         "hovertext": [
          "Amino Trimethylene Phosphonic Acid (ATMP)",
          "Amino Trimethylene Phosphonic Acid (ATMP)",
          "Amino Trimethylene Phosphonic Acid (ATMP)",
          "Amino Trimethylene Phosphonic Acid (ATMP)"
         ],
         "legendgroup": "Phosphonic acid",
         "marker": {
          "color": "#FF6692",
          "line": {
           "color": "DarkSlateGrey",
           "width": 2
          },
          "size": 12,
          "symbol": "circle"
         },
         "mode": "markers",
         "name": "Phosphonic acid",
         "orientation": "v",
         "showlegend": true,
         "type": "scatter",
         "x": [
          -416.4188537597656,
          -416.4188537597656,
          -416.4188537597656,
          -416.4188537597656
         ],
         "xaxis": "x",
         "y": [
          609.9419555664062,
          609.9419555664062,
          609.9419555664062,
          609.9419555664062
         ],
         "yaxis": "y"
        },
        {
         "hovertemplate": "<b>%{hovertext}</b><br><br>Group=Phosphoric acid<br>X1=%{x}<br>X2=%{y}<extra></extra>",
         "hovertext": [
          "Phosphoric Acid",
          "Orthophosphoric Acid",
          "Phosphoric Acid",
          "Orthophosphoric Acid",
          "Phosphoric Acid",
          "Orthophosphoric Acid",
          "Phosphoric Acid",
          "Orthophosphoric Acid"
         ],
         "legendgroup": "Phosphoric acid",
         "marker": {
          "color": "#B6E880",
          "line": {
           "color": "DarkSlateGrey",
           "width": 2
          },
          "size": 12,
          "symbol": "circle"
         },
         "mode": "markers",
         "name": "Phosphoric acid",
         "orientation": "v",
         "showlegend": true,
         "type": "scatter",
         "x": [
          686.1187133789062,
          686.1187133789062,
          686.1187133789062,
          686.1187133789062,
          686.1187133789062,
          686.1187133789062,
          686.1187133789062,
          686.1187133789062
         ],
         "xaxis": "x",
         "y": [
          353.6302185058594,
          353.6302185058594,
          353.6302185058594,
          353.6302185058594,
          353.6302185058594,
          353.6302185058594,
          353.6302185058594,
          353.6302185058594
         ],
         "yaxis": "y"
        },
        {
         "hovertemplate": "<b>%{hovertext}</b><br><br>Group=Imidazole<br>X1=%{x}<br>X2=%{y}<extra></extra>",
         "hovertext": [
          "Imidazole derivatives",
          "Imidazole derivatives",
          "Imidazole derivatives",
          "Imidazole derivatives"
         ],
         "legendgroup": "Imidazole",
         "marker": {
          "color": "#FF97FF",
          "line": {
           "color": "DarkSlateGrey",
           "width": 2
          },
          "size": 12,
          "symbol": "circle"
         },
         "mode": "markers",
         "name": "Imidazole",
         "orientation": "v",
         "showlegend": true,
         "type": "scatter",
         "x": [
          -455.46600341796875,
          -455.46600341796875,
          -455.46600341796875,
          -455.46600341796875
         ],
         "xaxis": "x",
         "y": [
          -82.22254180908203,
          -82.22254180908203,
          -82.22254180908203,
          -82.22254180908203
         ],
         "yaxis": "y"
        },
        {
         "hovertemplate": "<b>%{hovertext}</b><br><br>Group=Phosphonate<br>X1=%{x}<br>X2=%{y}<extra></extra>",
         "hovertext": [
          "Organic Phosphonates",
          "Organic Phosphonates",
          "Organic Phosphonates",
          "Organic Phosphonates"
         ],
         "legendgroup": "Phosphonate",
         "marker": {
          "color": "#FECB52",
          "line": {
           "color": "DarkSlateGrey",
           "width": 2
          },
          "size": 12,
          "symbol": "circle"
         },
         "mode": "markers",
         "name": "Phosphonate",
         "orientation": "v",
         "showlegend": true,
         "type": "scatter",
         "x": [
          151.36004638671875,
          111.7203369140625,
          111.7203369140625,
          111.7203369140625
         ],
         "xaxis": "x",
         "y": [
          301.24468994140625,
          411.823486328125,
          411.823486328125,
          411.823486328125
         ],
         "yaxis": "y"
        },
        {
         "hovertemplate": "<b>%{hovertext}</b><br><br>Group=Thiourea<br>X1=%{x}<br>X2=%{y}<extra></extra>",
         "hovertext": [
          "Thiourea derivatives",
          "Thiourea derivatives",
          "Thiourea derivatives",
          "Thiourea derivatives"
         ],
         "legendgroup": "Thiourea",
         "marker": {
          "color": "#636efa",
          "line": {
           "color": "DarkSlateGrey",
           "width": 2
          },
          "size": 12,
          "symbol": "circle"
         },
         "mode": "markers",
         "name": "Thiourea",
         "orientation": "v",
         "showlegend": true,
         "type": "scatter",
         "x": [
          -835.090087890625,
          -835.090087890625,
          -791.8577270507812,
          -835.090087890625
         ],
         "xaxis": "x",
         "y": [
          -6.2777018547058105,
          -6.2777018547058105,
          -117.19242858886719,
          -6.2777018547058105
         ],
         "yaxis": "y"
        },
        {
         "hovertemplate": "<b>%{hovertext}</b><br><br>Group=Polyether<br>X1=%{x}<br>X2=%{y}<extra></extra>",
         "hovertext": [
          "Polyethylene Glycol (PEG) derivatives",
          "Polyethylene Glycol (PEG) derivatives",
          "Polyethylene Glycol (PEG) derivatives",
          "Polyethylene Glycol (PEG) derivatives"
         ],
         "legendgroup": "Polyether",
         "marker": {
          "color": "#EF553B",
          "line": {
           "color": "DarkSlateGrey",
           "width": 2
          },
          "size": 12,
          "symbol": "circle"
         },
         "mode": "markers",
         "name": "Polyether",
         "orientation": "v",
         "showlegend": true,
         "type": "scatter",
         "x": [
          -80.03858184814453,
          -138.69500732421875,
          -138.69500732421875,
          -138.69500732421875
         ],
         "xaxis": "x",
         "y": [
          731.9895629882812,
          835.8944702148438,
          835.8944702148438,
          835.8944702148438
         ],
         "yaxis": "y"
        },
        {
         "hovertemplate": "<b>%{hovertext}</b><br><br>Group=Amine<br>X1=%{x}<br>X2=%{y}<extra></extra>",
         "hovertext": [
          "Ethanolamine",
          "Ethanolamine",
          "Ethanolamine",
          "Ethanolamine"
         ],
         "legendgroup": "Amine",
         "marker": {
          "color": "#00cc96",
          "line": {
           "color": "DarkSlateGrey",
           "width": 2
          },
          "size": 12,
          "symbol": "circle"
         },
         "mode": "markers",
         "name": "Amine",
         "orientation": "v",
         "showlegend": true,
         "type": "scatter",
         "x": [
          -719.1819458007812,
          -719.1819458007812,
          -719.1819458007812,
          -719.1819458007812
         ],
         "xaxis": "x",
         "y": [
          268.5398254394531,
          268.5398254394531,
          268.5398254394531,
          268.5398254394531
         ],
         "yaxis": "y"
        }
       ],
       "layout": {
        "font": {
         "family": "inter",
         "size": 20
        },
        "height": 600,
        "legend": {
         "title": {
          "text": "Group"
         },
         "tracegroupgap": 0
        },
        "margin": {
         "t": 60
        },
        "showlegend": false,
        "template": {
         "data": {
          "bar": [
           {
            "error_x": {
             "color": "#2a3f5f"
            },
            "error_y": {
             "color": "#2a3f5f"
            },
            "marker": {
             "line": {
              "color": "white",
              "width": 0.5
             },
             "pattern": {
              "fillmode": "overlay",
              "size": 10,
              "solidity": 0.2
             }
            },
            "type": "bar"
           }
          ],
          "barpolar": [
           {
            "marker": {
             "line": {
              "color": "white",
              "width": 0.5
             },
             "pattern": {
              "fillmode": "overlay",
              "size": 10,
              "solidity": 0.2
             }
            },
            "type": "barpolar"
           }
          ],
          "carpet": [
           {
            "aaxis": {
             "endlinecolor": "#2a3f5f",
             "gridcolor": "#C8D4E3",
             "linecolor": "#C8D4E3",
             "minorgridcolor": "#C8D4E3",
             "startlinecolor": "#2a3f5f"
            },
            "baxis": {
             "endlinecolor": "#2a3f5f",
             "gridcolor": "#C8D4E3",
             "linecolor": "#C8D4E3",
             "minorgridcolor": "#C8D4E3",
             "startlinecolor": "#2a3f5f"
            },
            "type": "carpet"
           }
          ],
          "choropleth": [
           {
            "colorbar": {
             "outlinewidth": 0,
             "ticks": ""
            },
            "type": "choropleth"
           }
          ],
          "contour": [
           {
            "colorbar": {
             "outlinewidth": 0,
             "ticks": ""
            },
            "colorscale": [
             [
              0,
              "#0d0887"
             ],
             [
              0.1111111111111111,
              "#46039f"
             ],
             [
              0.2222222222222222,
              "#7201a8"
             ],
             [
              0.3333333333333333,
              "#9c179e"
             ],
             [
              0.4444444444444444,
              "#bd3786"
             ],
             [
              0.5555555555555556,
              "#d8576b"
             ],
             [
              0.6666666666666666,
              "#ed7953"
             ],
             [
              0.7777777777777778,
              "#fb9f3a"
             ],
             [
              0.8888888888888888,
              "#fdca26"
             ],
             [
              1,
              "#f0f921"
             ]
            ],
            "type": "contour"
           }
          ],
          "contourcarpet": [
           {
            "colorbar": {
             "outlinewidth": 0,
             "ticks": ""
            },
            "type": "contourcarpet"
           }
          ],
          "heatmap": [
           {
            "colorbar": {
             "outlinewidth": 0,
             "ticks": ""
            },
            "colorscale": [
             [
              0,
              "#0d0887"
             ],
             [
              0.1111111111111111,
              "#46039f"
             ],
             [
              0.2222222222222222,
              "#7201a8"
             ],
             [
              0.3333333333333333,
              "#9c179e"
             ],
             [
              0.4444444444444444,
              "#bd3786"
             ],
             [
              0.5555555555555556,
              "#d8576b"
             ],
             [
              0.6666666666666666,
              "#ed7953"
             ],
             [
              0.7777777777777778,
              "#fb9f3a"
             ],
             [
              0.8888888888888888,
              "#fdca26"
             ],
             [
              1,
              "#f0f921"
             ]
            ],
            "type": "heatmap"
           }
          ],
          "heatmapgl": [
           {
            "colorbar": {
             "outlinewidth": 0,
             "ticks": ""
            },
            "colorscale": [
             [
              0,
              "#0d0887"
             ],
             [
              0.1111111111111111,
              "#46039f"
             ],
             [
              0.2222222222222222,
              "#7201a8"
             ],
             [
              0.3333333333333333,
              "#9c179e"
             ],
             [
              0.4444444444444444,
              "#bd3786"
             ],
             [
              0.5555555555555556,
              "#d8576b"
             ],
             [
              0.6666666666666666,
              "#ed7953"
             ],
             [
              0.7777777777777778,
              "#fb9f3a"
             ],
             [
              0.8888888888888888,
              "#fdca26"
             ],
             [
              1,
              "#f0f921"
             ]
            ],
            "type": "heatmapgl"
           }
          ],
          "histogram": [
           {
            "marker": {
             "pattern": {
              "fillmode": "overlay",
              "size": 10,
              "solidity": 0.2
             }
            },
            "type": "histogram"
           }
          ],
          "histogram2d": [
           {
            "colorbar": {
             "outlinewidth": 0,
             "ticks": ""
            },
            "colorscale": [
             [
              0,
              "#0d0887"
             ],
             [
              0.1111111111111111,
              "#46039f"
             ],
             [
              0.2222222222222222,
              "#7201a8"
             ],
             [
              0.3333333333333333,
              "#9c179e"
             ],
             [
              0.4444444444444444,
              "#bd3786"
             ],
             [
              0.5555555555555556,
              "#d8576b"
             ],
             [
              0.6666666666666666,
              "#ed7953"
             ],
             [
              0.7777777777777778,
              "#fb9f3a"
             ],
             [
              0.8888888888888888,
              "#fdca26"
             ],
             [
              1,
              "#f0f921"
             ]
            ],
            "type": "histogram2d"
           }
          ],
          "histogram2dcontour": [
           {
            "colorbar": {
             "outlinewidth": 0,
             "ticks": ""
            },
            "colorscale": [
             [
              0,
              "#0d0887"
             ],
             [
              0.1111111111111111,
              "#46039f"
             ],
             [
              0.2222222222222222,
              "#7201a8"
             ],
             [
              0.3333333333333333,
              "#9c179e"
             ],
             [
              0.4444444444444444,
              "#bd3786"
             ],
             [
              0.5555555555555556,
              "#d8576b"
             ],
             [
              0.6666666666666666,
              "#ed7953"
             ],
             [
              0.7777777777777778,
              "#fb9f3a"
             ],
             [
              0.8888888888888888,
              "#fdca26"
             ],
             [
              1,
              "#f0f921"
             ]
            ],
            "type": "histogram2dcontour"
           }
          ],
          "mesh3d": [
           {
            "colorbar": {
             "outlinewidth": 0,
             "ticks": ""
            },
            "type": "mesh3d"
           }
          ],
          "parcoords": [
           {
            "line": {
             "colorbar": {
              "outlinewidth": 0,
              "ticks": ""
             }
            },
            "type": "parcoords"
           }
          ],
          "pie": [
           {
            "automargin": true,
            "type": "pie"
           }
          ],
          "scatter": [
           {
            "fillpattern": {
             "fillmode": "overlay",
             "size": 10,
             "solidity": 0.2
            },
            "type": "scatter"
           }
          ],
          "scatter3d": [
           {
            "line": {
             "colorbar": {
              "outlinewidth": 0,
              "ticks": ""
             }
            },
            "marker": {
             "colorbar": {
              "outlinewidth": 0,
              "ticks": ""
             }
            },
            "type": "scatter3d"
           }
          ],
          "scattercarpet": [
           {
            "marker": {
             "colorbar": {
              "outlinewidth": 0,
              "ticks": ""
             }
            },
            "type": "scattercarpet"
           }
          ],
          "scattergeo": [
           {
            "marker": {
             "colorbar": {
              "outlinewidth": 0,
              "ticks": ""
             }
            },
            "type": "scattergeo"
           }
          ],
          "scattergl": [
           {
            "marker": {
             "colorbar": {
              "outlinewidth": 0,
              "ticks": ""
             }
            },
            "type": "scattergl"
           }
          ],
          "scattermapbox": [
           {
            "marker": {
             "colorbar": {
              "outlinewidth": 0,
              "ticks": ""
             }
            },
            "type": "scattermapbox"
           }
          ],
          "scatterpolar": [
           {
            "marker": {
             "colorbar": {
              "outlinewidth": 0,
              "ticks": ""
             }
            },
            "type": "scatterpolar"
           }
          ],
          "scatterpolargl": [
           {
            "marker": {
             "colorbar": {
              "outlinewidth": 0,
              "ticks": ""
             }
            },
            "type": "scatterpolargl"
           }
          ],
          "scatterternary": [
           {
            "marker": {
             "colorbar": {
              "outlinewidth": 0,
              "ticks": ""
             }
            },
            "type": "scatterternary"
           }
          ],
          "surface": [
           {
            "colorbar": {
             "outlinewidth": 0,
             "ticks": ""
            },
            "colorscale": [
             [
              0,
              "#0d0887"
             ],
             [
              0.1111111111111111,
              "#46039f"
             ],
             [
              0.2222222222222222,
              "#7201a8"
             ],
             [
              0.3333333333333333,
              "#9c179e"
             ],
             [
              0.4444444444444444,
              "#bd3786"
             ],
             [
              0.5555555555555556,
              "#d8576b"
             ],
             [
              0.6666666666666666,
              "#ed7953"
             ],
             [
              0.7777777777777778,
              "#fb9f3a"
             ],
             [
              0.8888888888888888,
              "#fdca26"
             ],
             [
              1,
              "#f0f921"
             ]
            ],
            "type": "surface"
           }
          ],
          "table": [
           {
            "cells": {
             "fill": {
              "color": "#EBF0F8"
             },
             "line": {
              "color": "white"
             }
            },
            "header": {
             "fill": {
              "color": "#C8D4E3"
             },
             "line": {
              "color": "white"
             }
            },
            "type": "table"
           }
          ]
         },
         "layout": {
          "annotationdefaults": {
           "arrowcolor": "#2a3f5f",
           "arrowhead": 0,
           "arrowwidth": 1
          },
          "autotypenumbers": "strict",
          "coloraxis": {
           "colorbar": {
            "outlinewidth": 0,
            "ticks": ""
           }
          },
          "colorscale": {
           "diverging": [
            [
             0,
             "#8e0152"
            ],
            [
             0.1,
             "#c51b7d"
            ],
            [
             0.2,
             "#de77ae"
            ],
            [
             0.3,
             "#f1b6da"
            ],
            [
             0.4,
             "#fde0ef"
            ],
            [
             0.5,
             "#f7f7f7"
            ],
            [
             0.6,
             "#e6f5d0"
            ],
            [
             0.7,
             "#b8e186"
            ],
            [
             0.8,
             "#7fbc41"
            ],
            [
             0.9,
             "#4d9221"
            ],
            [
             1,
             "#276419"
            ]
           ],
           "sequential": [
            [
             0,
             "#0d0887"
            ],
            [
             0.1111111111111111,
             "#46039f"
            ],
            [
             0.2222222222222222,
             "#7201a8"
            ],
            [
             0.3333333333333333,
             "#9c179e"
            ],
            [
             0.4444444444444444,
             "#bd3786"
            ],
            [
             0.5555555555555556,
             "#d8576b"
            ],
            [
             0.6666666666666666,
             "#ed7953"
            ],
            [
             0.7777777777777778,
             "#fb9f3a"
            ],
            [
             0.8888888888888888,
             "#fdca26"
            ],
            [
             1,
             "#f0f921"
            ]
           ],
           "sequentialminus": [
            [
             0,
             "#0d0887"
            ],
            [
             0.1111111111111111,
             "#46039f"
            ],
            [
             0.2222222222222222,
             "#7201a8"
            ],
            [
             0.3333333333333333,
             "#9c179e"
            ],
            [
             0.4444444444444444,
             "#bd3786"
            ],
            [
             0.5555555555555556,
             "#d8576b"
            ],
            [
             0.6666666666666666,
             "#ed7953"
            ],
            [
             0.7777777777777778,
             "#fb9f3a"
            ],
            [
             0.8888888888888888,
             "#fdca26"
            ],
            [
             1,
             "#f0f921"
            ]
           ]
          },
          "colorway": [
           "#636efa",
           "#EF553B",
           "#00cc96",
           "#ab63fa",
           "#FFA15A",
           "#19d3f3",
           "#FF6692",
           "#B6E880",
           "#FF97FF",
           "#FECB52"
          ],
          "font": {
           "color": "#2a3f5f"
          },
          "geo": {
           "bgcolor": "white",
           "lakecolor": "white",
           "landcolor": "white",
           "showlakes": true,
           "showland": true,
           "subunitcolor": "#C8D4E3"
          },
          "hoverlabel": {
           "align": "left"
          },
          "hovermode": "closest",
          "mapbox": {
           "style": "light"
          },
          "paper_bgcolor": "white",
          "plot_bgcolor": "white",
          "polar": {
           "angularaxis": {
            "gridcolor": "#EBF0F8",
            "linecolor": "#EBF0F8",
            "ticks": ""
           },
           "bgcolor": "white",
           "radialaxis": {
            "gridcolor": "#EBF0F8",
            "linecolor": "#EBF0F8",
            "ticks": ""
           }
          },
          "scene": {
           "xaxis": {
            "backgroundcolor": "white",
            "gridcolor": "#DFE8F3",
            "gridwidth": 2,
            "linecolor": "#EBF0F8",
            "showbackground": true,
            "ticks": "",
            "zerolinecolor": "#EBF0F8"
           },
           "yaxis": {
            "backgroundcolor": "white",
            "gridcolor": "#DFE8F3",
            "gridwidth": 2,
            "linecolor": "#EBF0F8",
            "showbackground": true,
            "ticks": "",
            "zerolinecolor": "#EBF0F8"
           },
           "zaxis": {
            "backgroundcolor": "white",
            "gridcolor": "#DFE8F3",
            "gridwidth": 2,
            "linecolor": "#EBF0F8",
            "showbackground": true,
            "ticks": "",
            "zerolinecolor": "#EBF0F8"
           }
          },
          "shapedefaults": {
           "line": {
            "color": "#2a3f5f"
           }
          },
          "ternary": {
           "aaxis": {
            "gridcolor": "#DFE8F3",
            "linecolor": "#A2B1C6",
            "ticks": ""
           },
           "baxis": {
            "gridcolor": "#DFE8F3",
            "linecolor": "#A2B1C6",
            "ticks": ""
           },
           "bgcolor": "white",
           "caxis": {
            "gridcolor": "#DFE8F3",
            "linecolor": "#A2B1C6",
            "ticks": ""
           }
          },
          "title": {
           "x": 0.05
          },
          "xaxis": {
           "automargin": true,
           "gridcolor": "#EBF0F8",
           "linecolor": "#EBF0F8",
           "ticks": "",
           "title": {
            "standoff": 15
           },
           "zerolinecolor": "#EBF0F8",
           "zerolinewidth": 2
          },
          "yaxis": {
           "automargin": true,
           "gridcolor": "#EBF0F8",
           "linecolor": "#EBF0F8",
           "ticks": "",
           "title": {
            "standoff": 15
           },
           "zerolinecolor": "#EBF0F8",
           "zerolinewidth": 2
          }
         }
        },
        "width": 700,
        "xaxis": {
         "anchor": "y",
         "domain": [
          0,
          1
         ],
         "title": {
          "text": "X1"
         }
        },
        "yaxis": {
         "anchor": "x",
         "domain": [
          0,
          1
         ],
         "title": {
          "text": "X2"
         }
        }
       }
      }
     },
     "metadata": {},
     "output_type": "display_data"
    }
   ],
   "source": [
    "from sklearn.manifold import TSNE\n",
    "\n",
    "X = df_featurized[rdkit_featurizer.descriptors]\n",
    "result = TSNE(n_components=2,perplexity=5, n_iter=1000).fit_transform(X)\n",
    "\n",
    "df_featurized['X1'] = [x[0] for x in result]\n",
    "df_featurized['X2'] = [x[1] for x in result]\n",
    "df_featurized['ID'] = df['ID']\n",
    "df_featurized['Group'] = df['Group']\n",
    "\n",
    "\n",
    "import plotly.express as px\n",
    "fig = px.scatter(df_featurized, x=\"X1\", y=\"X2\", hover_name='ID', color='Group', template='plotly_white')\n",
    "fig.update_layout(height=600, width=700,)\n",
    "fig.update_layout(showlegend=False, font_family='inter', font_size=20)\n",
    "\n",
    "fig.update_traces(marker=dict(size=12,\n",
    "                              line=dict(width=2,\n",
    "                                        color='DarkSlateGrey')),\n",
    "                  selector=dict(mode='markers'))\n",
    "\n",
    "# fig.update(layout_coloraxis_showscale=False)\n",
    "\n",
    "fig.show()"
   ]
  },
  {
   "cell_type": "code",
   "execution_count": 94,
   "metadata": {},
   "outputs": [
    {
     "name": "stdout",
     "output_type": "stream",
     "text": [
      "['n1c2ccccc2n[nH]1', 'c1c2n[nH]nc2ccc1', 'c1cc2n[nH]nc2cc1', 'n1c2ccccc2n[nH]1', 'c1cc2n[nH]nc2cc1', 'n1[nH]nc2ccccc12', 'c12c(n[nH]n1)cccc2', 'c12ccccc1n[nH]n2', 'c1cc2n[nH]nc2cc1', 'n1c2c(cccc2)n[nH]1']\n"
     ]
    },
    {
     "data": {
      "text/html": [
       "<div>\n",
       "<style scoped>\n",
       "    .dataframe tbody tr th:only-of-type {\n",
       "        vertical-align: middle;\n",
       "    }\n",
       "\n",
       "    .dataframe tbody tr th {\n",
       "        vertical-align: top;\n",
       "    }\n",
       "\n",
       "    .dataframe thead th {\n",
       "        text-align: right;\n",
       "    }\n",
       "</style>\n",
       "<table border=\"1\" class=\"dataframe\">\n",
       "  <thead>\n",
       "    <tr style=\"text-align: right;\">\n",
       "      <th></th>\n",
       "      <th>MaxAbsEStateIndex</th>\n",
       "      <th>MaxEStateIndex</th>\n",
       "      <th>MinAbsEStateIndex</th>\n",
       "      <th>MinEStateIndex</th>\n",
       "      <th>qed</th>\n",
       "      <th>SPS</th>\n",
       "      <th>MolWt</th>\n",
       "      <th>HeavyAtomMolWt</th>\n",
       "      <th>ExactMolWt</th>\n",
       "      <th>NumValenceElectrons</th>\n",
       "      <th>...</th>\n",
       "      <th>fr_sulfide</th>\n",
       "      <th>fr_sulfonamd</th>\n",
       "      <th>fr_sulfone</th>\n",
       "      <th>fr_term_acetylene</th>\n",
       "      <th>fr_tetrazole</th>\n",
       "      <th>fr_thiazole</th>\n",
       "      <th>fr_thiocyan</th>\n",
       "      <th>fr_thiophene</th>\n",
       "      <th>fr_unbrch_alkane</th>\n",
       "      <th>fr_urea</th>\n",
       "    </tr>\n",
       "  </thead>\n",
       "  <tbody>\n",
       "    <tr>\n",
       "      <th>0</th>\n",
       "      <td>3.882593</td>\n",
       "      <td>3.882593</td>\n",
       "      <td>0.914352</td>\n",
       "      <td>0.914352</td>\n",
       "      <td>0.560736</td>\n",
       "      <td>10.222222</td>\n",
       "      <td>119.127</td>\n",
       "      <td>114.087</td>\n",
       "      <td>119.048347</td>\n",
       "      <td>44.0</td>\n",
       "      <td>...</td>\n",
       "      <td>0.0</td>\n",
       "      <td>0.0</td>\n",
       "      <td>0.0</td>\n",
       "      <td>0.0</td>\n",
       "      <td>0.0</td>\n",
       "      <td>0.0</td>\n",
       "      <td>0.0</td>\n",
       "      <td>0.0</td>\n",
       "      <td>0.0</td>\n",
       "      <td>0.0</td>\n",
       "    </tr>\n",
       "    <tr>\n",
       "      <th>1</th>\n",
       "      <td>3.882593</td>\n",
       "      <td>3.882593</td>\n",
       "      <td>0.914352</td>\n",
       "      <td>0.914352</td>\n",
       "      <td>0.560736</td>\n",
       "      <td>10.222222</td>\n",
       "      <td>119.127</td>\n",
       "      <td>114.087</td>\n",
       "      <td>119.048347</td>\n",
       "      <td>44.0</td>\n",
       "      <td>...</td>\n",
       "      <td>0.0</td>\n",
       "      <td>0.0</td>\n",
       "      <td>0.0</td>\n",
       "      <td>0.0</td>\n",
       "      <td>0.0</td>\n",
       "      <td>0.0</td>\n",
       "      <td>0.0</td>\n",
       "      <td>0.0</td>\n",
       "      <td>0.0</td>\n",
       "      <td>0.0</td>\n",
       "    </tr>\n",
       "    <tr>\n",
       "      <th>2</th>\n",
       "      <td>3.882593</td>\n",
       "      <td>3.882593</td>\n",
       "      <td>0.914352</td>\n",
       "      <td>0.914352</td>\n",
       "      <td>0.560736</td>\n",
       "      <td>10.222222</td>\n",
       "      <td>119.127</td>\n",
       "      <td>114.087</td>\n",
       "      <td>119.048347</td>\n",
       "      <td>44.0</td>\n",
       "      <td>...</td>\n",
       "      <td>0.0</td>\n",
       "      <td>0.0</td>\n",
       "      <td>0.0</td>\n",
       "      <td>0.0</td>\n",
       "      <td>0.0</td>\n",
       "      <td>0.0</td>\n",
       "      <td>0.0</td>\n",
       "      <td>0.0</td>\n",
       "      <td>0.0</td>\n",
       "      <td>0.0</td>\n",
       "    </tr>\n",
       "    <tr>\n",
       "      <th>3</th>\n",
       "      <td>3.882593</td>\n",
       "      <td>3.882593</td>\n",
       "      <td>0.914352</td>\n",
       "      <td>0.914352</td>\n",
       "      <td>0.560736</td>\n",
       "      <td>10.222222</td>\n",
       "      <td>119.127</td>\n",
       "      <td>114.087</td>\n",
       "      <td>119.048347</td>\n",
       "      <td>44.0</td>\n",
       "      <td>...</td>\n",
       "      <td>0.0</td>\n",
       "      <td>0.0</td>\n",
       "      <td>0.0</td>\n",
       "      <td>0.0</td>\n",
       "      <td>0.0</td>\n",
       "      <td>0.0</td>\n",
       "      <td>0.0</td>\n",
       "      <td>0.0</td>\n",
       "      <td>0.0</td>\n",
       "      <td>0.0</td>\n",
       "    </tr>\n",
       "    <tr>\n",
       "      <th>4</th>\n",
       "      <td>3.882593</td>\n",
       "      <td>3.882593</td>\n",
       "      <td>0.914352</td>\n",
       "      <td>0.914352</td>\n",
       "      <td>0.560736</td>\n",
       "      <td>10.222222</td>\n",
       "      <td>119.127</td>\n",
       "      <td>114.087</td>\n",
       "      <td>119.048347</td>\n",
       "      <td>44.0</td>\n",
       "      <td>...</td>\n",
       "      <td>0.0</td>\n",
       "      <td>0.0</td>\n",
       "      <td>0.0</td>\n",
       "      <td>0.0</td>\n",
       "      <td>0.0</td>\n",
       "      <td>0.0</td>\n",
       "      <td>0.0</td>\n",
       "      <td>0.0</td>\n",
       "      <td>0.0</td>\n",
       "      <td>0.0</td>\n",
       "    </tr>\n",
       "    <tr>\n",
       "      <th>5</th>\n",
       "      <td>3.882593</td>\n",
       "      <td>3.882593</td>\n",
       "      <td>0.914352</td>\n",
       "      <td>0.914352</td>\n",
       "      <td>0.560736</td>\n",
       "      <td>10.222222</td>\n",
       "      <td>119.127</td>\n",
       "      <td>114.087</td>\n",
       "      <td>119.048347</td>\n",
       "      <td>44.0</td>\n",
       "      <td>...</td>\n",
       "      <td>0.0</td>\n",
       "      <td>0.0</td>\n",
       "      <td>0.0</td>\n",
       "      <td>0.0</td>\n",
       "      <td>0.0</td>\n",
       "      <td>0.0</td>\n",
       "      <td>0.0</td>\n",
       "      <td>0.0</td>\n",
       "      <td>0.0</td>\n",
       "      <td>0.0</td>\n",
       "    </tr>\n",
       "    <tr>\n",
       "      <th>6</th>\n",
       "      <td>3.882593</td>\n",
       "      <td>3.882593</td>\n",
       "      <td>0.914352</td>\n",
       "      <td>0.914352</td>\n",
       "      <td>0.560736</td>\n",
       "      <td>10.222222</td>\n",
       "      <td>119.127</td>\n",
       "      <td>114.087</td>\n",
       "      <td>119.048347</td>\n",
       "      <td>44.0</td>\n",
       "      <td>...</td>\n",
       "      <td>0.0</td>\n",
       "      <td>0.0</td>\n",
       "      <td>0.0</td>\n",
       "      <td>0.0</td>\n",
       "      <td>0.0</td>\n",
       "      <td>0.0</td>\n",
       "      <td>0.0</td>\n",
       "      <td>0.0</td>\n",
       "      <td>0.0</td>\n",
       "      <td>0.0</td>\n",
       "    </tr>\n",
       "    <tr>\n",
       "      <th>7</th>\n",
       "      <td>3.882593</td>\n",
       "      <td>3.882593</td>\n",
       "      <td>0.914352</td>\n",
       "      <td>0.914352</td>\n",
       "      <td>0.560736</td>\n",
       "      <td>10.222222</td>\n",
       "      <td>119.127</td>\n",
       "      <td>114.087</td>\n",
       "      <td>119.048347</td>\n",
       "      <td>44.0</td>\n",
       "      <td>...</td>\n",
       "      <td>0.0</td>\n",
       "      <td>0.0</td>\n",
       "      <td>0.0</td>\n",
       "      <td>0.0</td>\n",
       "      <td>0.0</td>\n",
       "      <td>0.0</td>\n",
       "      <td>0.0</td>\n",
       "      <td>0.0</td>\n",
       "      <td>0.0</td>\n",
       "      <td>0.0</td>\n",
       "    </tr>\n",
       "    <tr>\n",
       "      <th>8</th>\n",
       "      <td>3.882593</td>\n",
       "      <td>3.882593</td>\n",
       "      <td>0.914352</td>\n",
       "      <td>0.914352</td>\n",
       "      <td>0.560736</td>\n",
       "      <td>10.222222</td>\n",
       "      <td>119.127</td>\n",
       "      <td>114.087</td>\n",
       "      <td>119.048347</td>\n",
       "      <td>44.0</td>\n",
       "      <td>...</td>\n",
       "      <td>0.0</td>\n",
       "      <td>0.0</td>\n",
       "      <td>0.0</td>\n",
       "      <td>0.0</td>\n",
       "      <td>0.0</td>\n",
       "      <td>0.0</td>\n",
       "      <td>0.0</td>\n",
       "      <td>0.0</td>\n",
       "      <td>0.0</td>\n",
       "      <td>0.0</td>\n",
       "    </tr>\n",
       "    <tr>\n",
       "      <th>9</th>\n",
       "      <td>3.882593</td>\n",
       "      <td>3.882593</td>\n",
       "      <td>0.914352</td>\n",
       "      <td>0.914352</td>\n",
       "      <td>0.560736</td>\n",
       "      <td>10.222222</td>\n",
       "      <td>119.127</td>\n",
       "      <td>114.087</td>\n",
       "      <td>119.048347</td>\n",
       "      <td>44.0</td>\n",
       "      <td>...</td>\n",
       "      <td>0.0</td>\n",
       "      <td>0.0</td>\n",
       "      <td>0.0</td>\n",
       "      <td>0.0</td>\n",
       "      <td>0.0</td>\n",
       "      <td>0.0</td>\n",
       "      <td>0.0</td>\n",
       "      <td>0.0</td>\n",
       "      <td>0.0</td>\n",
       "      <td>0.0</td>\n",
       "    </tr>\n",
       "  </tbody>\n",
       "</table>\n",
       "<p>10 rows × 210 columns</p>\n",
       "</div>"
      ],
      "text/plain": [
       "   MaxAbsEStateIndex  MaxEStateIndex  MinAbsEStateIndex  MinEStateIndex  \\\n",
       "0           3.882593        3.882593           0.914352        0.914352   \n",
       "1           3.882593        3.882593           0.914352        0.914352   \n",
       "2           3.882593        3.882593           0.914352        0.914352   \n",
       "3           3.882593        3.882593           0.914352        0.914352   \n",
       "4           3.882593        3.882593           0.914352        0.914352   \n",
       "5           3.882593        3.882593           0.914352        0.914352   \n",
       "6           3.882593        3.882593           0.914352        0.914352   \n",
       "7           3.882593        3.882593           0.914352        0.914352   \n",
       "8           3.882593        3.882593           0.914352        0.914352   \n",
       "9           3.882593        3.882593           0.914352        0.914352   \n",
       "\n",
       "        qed        SPS    MolWt  HeavyAtomMolWt  ExactMolWt  \\\n",
       "0  0.560736  10.222222  119.127         114.087  119.048347   \n",
       "1  0.560736  10.222222  119.127         114.087  119.048347   \n",
       "2  0.560736  10.222222  119.127         114.087  119.048347   \n",
       "3  0.560736  10.222222  119.127         114.087  119.048347   \n",
       "4  0.560736  10.222222  119.127         114.087  119.048347   \n",
       "5  0.560736  10.222222  119.127         114.087  119.048347   \n",
       "6  0.560736  10.222222  119.127         114.087  119.048347   \n",
       "7  0.560736  10.222222  119.127         114.087  119.048347   \n",
       "8  0.560736  10.222222  119.127         114.087  119.048347   \n",
       "9  0.560736  10.222222  119.127         114.087  119.048347   \n",
       "\n",
       "   NumValenceElectrons  ...  fr_sulfide  fr_sulfonamd  fr_sulfone  \\\n",
       "0                 44.0  ...         0.0           0.0         0.0   \n",
       "1                 44.0  ...         0.0           0.0         0.0   \n",
       "2                 44.0  ...         0.0           0.0         0.0   \n",
       "3                 44.0  ...         0.0           0.0         0.0   \n",
       "4                 44.0  ...         0.0           0.0         0.0   \n",
       "5                 44.0  ...         0.0           0.0         0.0   \n",
       "6                 44.0  ...         0.0           0.0         0.0   \n",
       "7                 44.0  ...         0.0           0.0         0.0   \n",
       "8                 44.0  ...         0.0           0.0         0.0   \n",
       "9                 44.0  ...         0.0           0.0         0.0   \n",
       "\n",
       "   fr_term_acetylene  fr_tetrazole  fr_thiazole  fr_thiocyan  fr_thiophene  \\\n",
       "0                0.0           0.0          0.0          0.0           0.0   \n",
       "1                0.0           0.0          0.0          0.0           0.0   \n",
       "2                0.0           0.0          0.0          0.0           0.0   \n",
       "3                0.0           0.0          0.0          0.0           0.0   \n",
       "4                0.0           0.0          0.0          0.0           0.0   \n",
       "5                0.0           0.0          0.0          0.0           0.0   \n",
       "6                0.0           0.0          0.0          0.0           0.0   \n",
       "7                0.0           0.0          0.0          0.0           0.0   \n",
       "8                0.0           0.0          0.0          0.0           0.0   \n",
       "9                0.0           0.0          0.0          0.0           0.0   \n",
       "\n",
       "   fr_unbrch_alkane  fr_urea  \n",
       "0               0.0      0.0  \n",
       "1               0.0      0.0  \n",
       "2               0.0      0.0  \n",
       "3               0.0      0.0  \n",
       "4               0.0      0.0  \n",
       "5               0.0      0.0  \n",
       "6               0.0      0.0  \n",
       "7               0.0      0.0  \n",
       "8               0.0      0.0  \n",
       "9               0.0      0.0  \n",
       "\n",
       "[10 rows x 210 columns]"
      ]
     },
     "execution_count": 94,
     "metadata": {},
     "output_type": "execute_result"
    }
   ],
   "source": [
    "from pysmilesutils.augment import SMILESAugmenter\n",
    "augmenter = SMILESAugmenter()\n",
    "new_smiles = augmenter([\"C1=CC2=NNN=C2C=C1\"]*10)\n",
    "print(new_smiles)\n",
    "features = rdkit_featurizer(new_smiles)\n",
    "df_new = pd.DataFrame(features, columns=rdkit_featurizer.descriptors)\n",
    "df_new"
   ]
  },
  {
   "cell_type": "code",
   "execution_count": 68,
   "metadata": {},
   "outputs": [
    {
     "data": {
      "image/png": "[encoded data removed]",
      "text/plain": [
       "<rdkit.Chem.rdchem.Mol at 0x2d9505700>"
      ]
     },
     "metadata": {},
     "output_type": "display_data"
    },
    {
     "data": {
      "image/png": "[encoded data removed]",
      "text/plain": [
       "<rdkit.Chem.rdchem.Mol at 0x2d9505850>"
      ]
     },
     "metadata": {},
     "output_type": "display_data"
    },
    {
     "data": {
      "image/png": "[encoded data removed]",
      "text/plain": [
       "<rdkit.Chem.rdchem.Mol at 0x2d9505070>"
      ]
     },
     "metadata": {},
     "output_type": "display_data"
    }
   ],
   "source": [
    "from rdkit import Chem\n",
    "from rdkit.Chem import Draw\n",
    "new_smiles = augmenter([\"C1=CC2=NNN=C2C=C1\"]*3)\n",
    "\n",
    "\n",
    "for ns in new_smiles:\n",
    "    mol = Chem.MolFromSmiles(ns)\n",
    "    display(mol)"
   ]
  },
  {
   "cell_type": "code",
   "execution_count": 101,
   "metadata": {},
   "outputs": [
    {
     "data": {
      "text/plain": [
       "['c1ccc2n[nH]nc2c1',\n",
       " 'c1ccc2n[nH]nc2c1',\n",
       " 'c1ccc2n[nH]nc2c1',\n",
       " 'c1ccc2n[nH]nc2c1',\n",
       " 'c1cc2n[nH]nc2co1',\n",
       " 'c1coc2n[nH]nc2c1',\n",
       " 'c1cco2n[nH]nc2c1',\n",
       " 'c1cco2n[nH]nc2c1',\n",
       " 'c1coc2n[nH]nc2c1',\n",
       " 'c1cc2n[nH]nc2co1',\n",
       " 'c1cc2n[nH]nc2cf1',\n",
       " 'c1cfc2n[nH]nc2c1',\n",
       " 'c1ccf2n[nH]nc2c1',\n",
       " 'c1ccf2n[nH]nc2c1',\n",
       " 'c1cfc2n[nH]nc2c1',\n",
       " 'c1cc2n[nH]nc2cf1',\n",
       " 'c1cc2n[nH]nc2cs1',\n",
       " 'c1csc2n[nH]nc2c1',\n",
       " 'c1ccs2n[nH]nc2c1',\n",
       " 'c1ccs2n[nH]nc2c1',\n",
       " 'c1csc2n[nH]nc2c1',\n",
       " 'c1cc2n[nH]nc2cs1',\n",
       " 'c1cc2n[nH]nc2cn1',\n",
       " 'c1cnc2n[nH]nc2c1',\n",
       " 'c1ccn2n[nH]nc2c1',\n",
       " 'c1ccn2n[nH]nc2c1',\n",
       " 'c1cnc2n[nH]nc2c1',\n",
       " 'c1cc2n[nH]nc2cn1',\n",
       " 'c1ccc2n[nH]nc2c1',\n",
       " 'c1ccc2n[nH]nc2c1',\n",
       " 'c1ccc2n[nH]nc2c1',\n",
       " 'c1ccc2n[nH]nc2c1',\n",
       " 'c1ccc2n[nH]nc2c1',\n",
       " 'c1ccc2n[nH]nc2c1',\n",
       " 'c1ccc2n[nH]nc2c1',\n",
       " 'c1ccc2n[nH]nc2c1',\n",
       " 'c1ccc2o[nH]nc2c1',\n",
       " 'c1ccc2nonc2c1',\n",
       " 'c1ccc2o[nH]nc2c1',\n",
       " 'c1ccc2n[nH]cc2c1',\n",
       " 'c1ccc2ncnc2c1',\n",
       " 'c1ccc2n[nH]cc2c1',\n",
       " 'c1ccc2f[nH]nc2c1',\n",
       " 'c1ccc2nfnc2c1',\n",
       " 'c1ccc2f[nH]nc2c1',\n",
       " 'c1ccc2s[nH]nc2c1',\n",
       " 'c1ccc2nsnc2c1',\n",
       " 'c1ccc2s[nH]nc2c1']"
      ]
     },
     "execution_count": 101,
     "metadata": {},
     "output_type": "execute_result"
    }
   ],
   "source": [
    "from rdkit import Chem\n",
    "\n",
    "starting_smiles = 'C1=CC2=NNN=C2C=C1'\n",
    "\n",
    "\n",
    "def replace_element(starting_smiles, element_to_replace):\n",
    "\n",
    "    mol = Chem.MolFromSmiles(starting_smiles)\n",
    "\n",
    "    replacements = ['O', 'C', 'F', 'S', 'N']\n",
    "    replacements = [x for x in replacements if x != element_to_replace]\n",
    "\n",
    "    all_new_smiles = []\n",
    "    for ele in replacements:\n",
    "        replacement = Chem.MolFromSmiles(ele)\n",
    "        modified_mol = Chem.ReplaceSubstructs(mol, Chem.MolFromSmiles(element_to_replace), replacement)\n",
    "        new_smiles = [Chem.MolToSmiles(mol) for mol in modified_mol]\n",
    "        all_new_smiles.extend(new_smiles)\n",
    "    \n",
    "    return all_new_smiles\n",
    "    \n",
    "\n",
    "\n",
    "replacements = ['O', 'C', 'F', 'S', 'N']\n",
    "\n",
    "all_new_smiles = []\n",
    "for ele in replacements:\n",
    "    all_new_smiles.extend(replace_element('C1=CC2=NNN=C2C=C1', ele))\n",
    "all_new_smiles"
   ]
  },
  {
   "cell_type": "code",
   "execution_count": 103,
   "metadata": {},
   "outputs": [
    {
     "data": {
      "image/png": "[encoded data removed]",
      "image/svg+xml": [
       "<?xml version='1.0' encoding='iso-8859-1'?>\n",
       "<svg version='1.1' baseProfile='full'\n",
       "              xmlns='http://www.w3.org/2000/svg'\n",
       "                      xmlns:rdkit='http://www.rdkit.org/xml'\n",
       "                      xmlns:xlink='http://www.w3.org/1999/xlink'\n",
       "                  xml:space='preserve'\n",
       "width='450px' height='150px' viewBox='0 0 450 150'>\n",
       "<!-- END OF HEADER -->\n",
       "<rect style='opacity:1.0;fill:#FFFFFF;stroke:none' width='450.0' height='150.0' x='0.0' y='0.0'> </rect>\n",
       "<path class='bond-0 atom-0 atom-1' d='M 138.9,50.6 L 180.9,26.4' style='fill:none;fill-rule:evenodd;stroke:#000000;stroke-width:2.0px;stroke-linecap:butt;stroke-linejoin:miter;stroke-opacity:1' />\n",
       "<path class='bond-0 atom-0 atom-1' d='M 146.2,54.8 L 180.9,34.8' style='fill:none;fill-rule:evenodd;stroke:#000000;stroke-width:2.0px;stroke-linecap:butt;stroke-linejoin:miter;stroke-opacity:1' />\n",
       "<path class='bond-1 atom-1 atom-2' d='M 180.9,26.4 L 222.9,50.7' style='fill:none;fill-rule:evenodd;stroke:#000000;stroke-width:2.0px;stroke-linecap:butt;stroke-linejoin:miter;stroke-opacity:1' />\n",
       "<path class='bond-2 atom-2 atom-3' d='M 222.9,50.7 L 241.2,44.8' style='fill:none;fill-rule:evenodd;stroke:#000000;stroke-width:2.0px;stroke-linecap:butt;stroke-linejoin:miter;stroke-opacity:1' />\n",
       "<path class='bond-2 atom-2 atom-3' d='M 241.2,44.8 L 259.6,38.8' style='fill:none;fill-rule:evenodd;stroke:#0000FF;stroke-width:2.0px;stroke-linecap:butt;stroke-linejoin:miter;stroke-opacity:1' />\n",
       "<path class='bond-2 atom-2 atom-3' d='M 230.1,56.0 L 246.0,50.9' style='fill:none;fill-rule:evenodd;stroke:#000000;stroke-width:2.0px;stroke-linecap:butt;stroke-linejoin:miter;stroke-opacity:1' />\n",
       "<path class='bond-2 atom-2 atom-3' d='M 246.0,50.9 L 261.8,45.7' style='fill:none;fill-rule:evenodd;stroke:#0000FF;stroke-width:2.0px;stroke-linecap:butt;stroke-linejoin:miter;stroke-opacity:1' />\n",
       "<path class='bond-3 atom-3 atom-4' d='M 277.6,47.6 L 288.8,63.1' style='fill:none;fill-rule:evenodd;stroke:#0000FF;stroke-width:2.0px;stroke-linecap:butt;stroke-linejoin:miter;stroke-opacity:1' />\n",
       "<path class='bond-4 atom-4 atom-5' d='M 288.8,86.9 L 277.6,102.3' style='fill:none;fill-rule:evenodd;stroke:#0000FF;stroke-width:2.0px;stroke-linecap:butt;stroke-linejoin:miter;stroke-opacity:1' />\n",
       "<path class='bond-5 atom-5 atom-6' d='M 259.5,111.1 L 241.2,105.1' style='fill:none;fill-rule:evenodd;stroke:#0000FF;stroke-width:2.0px;stroke-linecap:butt;stroke-linejoin:miter;stroke-opacity:1' />\n",
       "<path class='bond-5 atom-5 atom-6' d='M 241.2,105.1 L 222.8,99.2' style='fill:none;fill-rule:evenodd;stroke:#000000;stroke-width:2.0px;stroke-linecap:butt;stroke-linejoin:miter;stroke-opacity:1' />\n",
       "<path class='bond-5 atom-5 atom-6' d='M 261.8,104.2 L 245.9,99.0' style='fill:none;fill-rule:evenodd;stroke:#0000FF;stroke-width:2.0px;stroke-linecap:butt;stroke-linejoin:miter;stroke-opacity:1' />\n",
       "<path class='bond-5 atom-5 atom-6' d='M 245.9,99.0 L 230.1,93.9' style='fill:none;fill-rule:evenodd;stroke:#000000;stroke-width:2.0px;stroke-linecap:butt;stroke-linejoin:miter;stroke-opacity:1' />\n",
       "<path class='bond-6 atom-6 atom-7' d='M 222.8,99.2 L 180.8,123.4' style='fill:none;fill-rule:evenodd;stroke:#000000;stroke-width:2.0px;stroke-linecap:butt;stroke-linejoin:miter;stroke-opacity:1' />\n",
       "<path class='bond-7 atom-7 atom-8' d='M 180.8,123.4 L 138.9,99.1' style='fill:none;fill-rule:evenodd;stroke:#000000;stroke-width:2.0px;stroke-linecap:butt;stroke-linejoin:miter;stroke-opacity:1' />\n",
       "<path class='bond-7 atom-7 atom-8' d='M 180.8,115.0 L 146.1,94.9' style='fill:none;fill-rule:evenodd;stroke:#000000;stroke-width:2.0px;stroke-linecap:butt;stroke-linejoin:miter;stroke-opacity:1' />\n",
       "<path class='bond-8 atom-8 atom-0' d='M 138.9,99.1 L 138.9,50.6' style='fill:none;fill-rule:evenodd;stroke:#000000;stroke-width:2.0px;stroke-linecap:butt;stroke-linejoin:miter;stroke-opacity:1' />\n",
       "<path class='bond-9 atom-6 atom-2' d='M 222.8,99.2 L 222.9,50.7' style='fill:none;fill-rule:evenodd;stroke:#000000;stroke-width:2.0px;stroke-linecap:butt;stroke-linejoin:miter;stroke-opacity:1' />\n",
       "<path d='M 141.0,49.4 L 138.9,50.6 L 138.9,53.1' style='fill:none;stroke:#000000;stroke-width:2.0px;stroke-linecap:butt;stroke-linejoin:miter;stroke-opacity:1;' />\n",
       "<path d='M 178.8,27.6 L 180.9,26.4 L 183.0,27.6' style='fill:none;stroke:#000000;stroke-width:2.0px;stroke-linecap:butt;stroke-linejoin:miter;stroke-opacity:1;' />\n",
       "<path d='M 182.9,122.2 L 180.8,123.4 L 178.7,122.2' style='fill:none;stroke:#000000;stroke-width:2.0px;stroke-linecap:butt;stroke-linejoin:miter;stroke-opacity:1;' />\n",
       "<path d='M 141.0,100.3 L 138.9,99.1 L 138.9,96.7' style='fill:none;stroke:#000000;stroke-width:2.0px;stroke-linecap:butt;stroke-linejoin:miter;stroke-opacity:1;' />\n",
       "<path class='atom-3' d='M 264.4 25.5\n",
       "L 271.2 36.4\n",
       "Q 271.8 37.4, 272.9 39.4\n",
       "Q 274.0 41.3, 274.0 41.5\n",
       "L 274.0 25.5\n",
       "L 276.8 25.5\n",
       "L 276.8 46.0\n",
       "L 274.0 46.0\n",
       "L 266.7 34.1\n",
       "Q 265.9 32.7, 265.0 31.1\n",
       "Q 264.1 29.5, 263.8 29.0\n",
       "L 263.8 46.0\n",
       "L 261.2 46.0\n",
       "L 261.2 25.5\n",
       "L 264.4 25.5\n",
       "' fill='#0000FF'/>\n",
       "<path class='atom-4' d='M 292.9 64.7\n",
       "L 299.6 75.6\n",
       "Q 300.3 76.7, 301.4 78.6\n",
       "Q 302.4 80.6, 302.5 80.7\n",
       "L 302.5 64.7\n",
       "L 305.2 64.7\n",
       "L 305.2 85.3\n",
       "L 302.4 85.3\n",
       "L 295.2 73.4\n",
       "Q 294.3 72.0, 293.4 70.4\n",
       "Q 292.6 68.8, 292.3 68.3\n",
       "L 292.3 85.3\n",
       "L 289.6 85.3\n",
       "L 289.6 64.7\n",
       "L 292.9 64.7\n",
       "' fill='#0000FF'/>\n",
       "<path class='atom-4' d='M 309.2 64.7\n",
       "L 312.0 64.7\n",
       "L 312.0 73.5\n",
       "L 322.6 73.5\n",
       "L 322.6 64.7\n",
       "L 325.4 64.7\n",
       "L 325.4 85.3\n",
       "L 322.6 85.3\n",
       "L 322.6 75.8\n",
       "L 312.0 75.8\n",
       "L 312.0 85.3\n",
       "L 309.2 85.3\n",
       "L 309.2 64.7\n",
       "' fill='#0000FF'/>\n",
       "<path class='atom-5' d='M 264.4 103.9\n",
       "L 271.1 114.8\n",
       "Q 271.8 115.9, 272.8 117.8\n",
       "Q 273.9 119.8, 274.0 119.9\n",
       "L 274.0 103.9\n",
       "L 276.7 103.9\n",
       "L 276.7 124.5\n",
       "L 273.9 124.5\n",
       "L 266.7 112.6\n",
       "Q 265.8 111.2, 264.9 109.6\n",
       "Q 264.0 108.0, 263.8 107.5\n",
       "L 263.8 124.5\n",
       "L 261.1 124.5\n",
       "L 261.1 103.9\n",
       "L 264.4 103.9\n",
       "' fill='#0000FF'/>\n",
       "<path class='note' d='M 128.4 49.9\n",
       "Q 126.5 49.9, 125.6 48.5\n",
       "Q 124.6 47.1, 124.6 44.6\n",
       "Q 124.6 42.1, 125.6 40.7\n",
       "Q 126.5 39.4, 128.4 39.4\n",
       "Q 130.3 39.4, 131.2 40.7\n",
       "Q 132.2 42.1, 132.2 44.6\n",
       "Q 132.2 47.1, 131.2 48.5\n",
       "Q 130.3 49.9, 128.4 49.9\n",
       "M 128.4 48.7\n",
       "Q 129.5 48.7, 130.1 47.7\n",
       "Q 130.7 46.6, 130.7 44.6\n",
       "Q 130.7 42.6, 130.1 41.6\n",
       "Q 129.5 40.5, 128.4 40.5\n",
       "Q 127.3 40.5, 126.7 41.6\n",
       "Q 126.1 42.6, 126.1 44.6\n",
       "Q 126.1 46.6, 126.7 47.7\n",
       "Q 127.3 48.7, 128.4 48.7\n",
       "' fill='#000000'/>\n",
       "<path class='note' d='M 178.4 18.3\n",
       "L 180.6 18.3\n",
       "L 180.6 10.6\n",
       "L 178.1 11.4\n",
       "L 177.8 10.5\n",
       "L 181.0 9.1\n",
       "L 182.0 9.3\n",
       "L 182.0 18.3\n",
       "L 184.0 18.3\n",
       "L 184.0 19.5\n",
       "L 178.4 19.5\n",
       "L 178.4 18.3\n",
       "' fill='#000000'/>\n",
       "<path class='note' d='M 220.7 35.5\n",
       "Q 221.1 34.5, 222.0 34.0\n",
       "Q 222.9 33.4, 224.1 33.4\n",
       "Q 225.7 33.4, 226.6 34.3\n",
       "Q 227.4 35.1, 227.4 36.6\n",
       "Q 227.4 38.2, 226.3 39.6\n",
       "Q 225.2 41.0, 222.8 42.7\n",
       "L 227.6 42.7\n",
       "L 227.6 43.9\n",
       "L 220.7 43.9\n",
       "L 220.7 42.9\n",
       "Q 222.6 41.5, 223.7 40.5\n",
       "Q 224.9 39.5, 225.4 38.6\n",
       "Q 226.0 37.6, 226.0 36.7\n",
       "Q 226.0 35.7, 225.5 35.2\n",
       "Q 225.0 34.6, 224.1 34.6\n",
       "Q 223.3 34.6, 222.7 34.9\n",
       "Q 222.2 35.3, 221.8 36.0\n",
       "L 220.7 35.5\n",
       "' fill='#000000'/>\n",
       "<path class='note' d='M 278.0 12.5\n",
       "Q 279.0 12.8, 279.4 13.4\n",
       "Q 279.9 14.1, 279.9 15.1\n",
       "Q 279.9 16.0, 279.5 16.6\n",
       "Q 279.1 17.3, 278.3 17.7\n",
       "Q 277.5 18.1, 276.4 18.1\n",
       "Q 275.3 18.1, 274.5 17.7\n",
       "Q 273.7 17.3, 273.0 16.5\n",
       "L 273.8 15.7\n",
       "Q 274.5 16.4, 275.0 16.6\n",
       "Q 275.6 16.9, 276.4 16.9\n",
       "Q 277.3 16.9, 277.9 16.4\n",
       "Q 278.5 15.9, 278.5 15.1\n",
       "Q 278.5 14.0, 277.9 13.6\n",
       "Q 277.3 13.1, 276.0 13.1\n",
       "L 275.3 13.1\n",
       "L 275.3 12.0\n",
       "L 275.9 12.0\n",
       "Q 277.1 12.0, 277.7 11.5\n",
       "Q 278.3 11.0, 278.3 10.1\n",
       "Q 278.3 9.5, 277.8 9.1\n",
       "Q 277.3 8.7, 276.4 8.7\n",
       "Q 275.6 8.7, 275.0 9.0\n",
       "Q 274.5 9.3, 274.1 10.0\n",
       "L 273.1 9.5\n",
       "Q 273.5 8.6, 274.3 8.1\n",
       "Q 275.2 7.5, 276.4 7.5\n",
       "Q 277.9 7.5, 278.8 8.2\n",
       "Q 279.7 8.9, 279.7 10.1\n",
       "Q 279.7 11.0, 279.3 11.6\n",
       "Q 278.8 12.2, 278.0 12.5\n",
       "' fill='#000000'/>\n",
       "<path class='note' d='M 312.3 97.6\n",
       "L 313.5 97.6\n",
       "L 313.5 98.8\n",
       "L 312.3 98.8\n",
       "L 312.3 101.1\n",
       "L 310.9 101.1\n",
       "L 310.9 98.8\n",
       "L 305.6 98.8\n",
       "L 305.6 97.9\n",
       "L 310.1 90.8\n",
       "L 312.3 90.8\n",
       "L 312.3 97.6\n",
       "M 307.3 97.6\n",
       "L 310.9 97.6\n",
       "L 310.9 91.8\n",
       "L 307.3 97.6\n",
       "' fill='#000000'/>\n",
       "<path class='note' d='M 276.6 135.9\n",
       "Q 277.5 135.9, 278.3 136.3\n",
       "Q 279.0 136.7, 279.4 137.4\n",
       "Q 279.9 138.2, 279.9 139.1\n",
       "Q 279.9 140.2, 279.3 141.0\n",
       "Q 278.8 141.7, 278.0 142.1\n",
       "Q 277.1 142.5, 276.2 142.5\n",
       "Q 275.2 142.5, 274.4 142.2\n",
       "Q 273.5 141.8, 272.9 141.1\n",
       "L 273.8 140.2\n",
       "Q 274.3 140.8, 274.9 141.0\n",
       "Q 275.6 141.3, 276.2 141.3\n",
       "Q 277.1 141.3, 277.8 140.8\n",
       "Q 278.4 140.2, 278.4 139.2\n",
       "Q 278.4 138.1, 277.8 137.6\n",
       "Q 277.1 137.0, 276.1 137.0\n",
       "Q 275.2 137.0, 274.2 137.4\n",
       "L 273.4 137.0\n",
       "L 273.9 132.1\n",
       "L 279.2 132.1\n",
       "L 279.1 133.3\n",
       "L 275.1 133.3\n",
       "L 274.8 136.3\n",
       "Q 275.7 135.9, 276.6 135.9\n",
       "' fill='#000000'/>\n",
       "<path class='note' d='M 224.5 110.0\n",
       "Q 225.4 110.0, 226.2 110.4\n",
       "Q 226.9 110.8, 227.3 111.5\n",
       "Q 227.6 112.2, 227.6 113.1\n",
       "Q 227.6 114.1, 227.2 114.9\n",
       "Q 226.8 115.7, 226.0 116.1\n",
       "Q 225.2 116.5, 224.2 116.5\n",
       "Q 222.4 116.5, 221.4 115.3\n",
       "Q 220.5 114.1, 220.5 111.6\n",
       "Q 220.5 108.9, 221.6 107.4\n",
       "Q 222.8 106.0, 225.0 106.0\n",
       "Q 225.6 106.0, 226.2 106.2\n",
       "Q 226.7 106.3, 227.2 106.6\n",
       "L 226.7 107.6\n",
       "Q 225.9 107.2, 225.0 107.2\n",
       "Q 223.5 107.2, 222.8 108.1\n",
       "Q 222.1 109.1, 222.0 111.0\n",
       "Q 222.5 110.5, 223.2 110.3\n",
       "Q 223.8 110.0, 224.5 110.0\n",
       "M 224.2 115.4\n",
       "Q 224.8 115.4, 225.2 115.1\n",
       "Q 225.7 114.8, 225.9 114.3\n",
       "Q 226.2 113.8, 226.2 113.1\n",
       "Q 226.2 112.2, 225.7 111.7\n",
       "Q 225.2 111.2, 224.3 111.2\n",
       "Q 223.6 111.2, 223.0 111.4\n",
       "Q 222.4 111.7, 222.0 112.1\n",
       "Q 222.0 113.8, 222.6 114.6\n",
       "Q 223.1 115.4, 224.2 115.4\n",
       "' fill='#000000'/>\n",
       "<path class='note' d='M 182.8 131.5\n",
       "L 177.4 131.5\n",
       "L 177.4 130.3\n",
       "L 184.2 130.3\n",
       "L 184.2 131.4\n",
       "L 180.1 140.6\n",
       "L 178.7 140.6\n",
       "L 182.8 131.5\n",
       "' fill='#000000'/>\n",
       "<path class='note' d='M 130.0 104.9\n",
       "Q 130.9 105.3, 131.5 105.9\n",
       "Q 132.0 106.5, 132.0 107.5\n",
       "Q 132.0 108.4, 131.6 109.1\n",
       "Q 131.1 109.8, 130.3 110.1\n",
       "Q 129.5 110.5, 128.4 110.5\n",
       "Q 126.7 110.5, 125.7 109.7\n",
       "Q 124.7 108.9, 124.7 107.5\n",
       "Q 124.7 106.7, 125.2 106.1\n",
       "Q 125.6 105.4, 126.5 105.0\n",
       "Q 125.8 104.6, 125.5 104.0\n",
       "Q 125.1 103.5, 125.1 102.6\n",
       "Q 125.1 101.4, 126.0 100.7\n",
       "Q 126.9 100.0, 128.4 100.0\n",
       "Q 129.9 100.0, 130.7 100.7\n",
       "Q 131.6 101.4, 131.6 102.6\n",
       "Q 131.6 103.3, 131.2 103.9\n",
       "Q 130.8 104.5, 130.0 104.9\n",
       "M 128.4 101.0\n",
       "Q 127.5 101.0, 127.0 101.4\n",
       "Q 126.6 101.9, 126.6 102.6\n",
       "Q 126.6 103.1, 126.9 103.5\n",
       "Q 127.2 103.8, 127.7 104.0\n",
       "Q 128.1 104.2, 129.0 104.5\n",
       "Q 129.6 104.1, 129.9 103.6\n",
       "Q 130.2 103.2, 130.2 102.6\n",
       "Q 130.2 101.9, 129.7 101.4\n",
       "Q 129.2 101.0, 128.4 101.0\n",
       "M 128.4 109.4\n",
       "Q 129.4 109.4, 130.0 108.9\n",
       "Q 130.5 108.4, 130.5 107.5\n",
       "Q 130.5 107.0, 130.2 106.6\n",
       "Q 129.9 106.3, 129.5 106.1\n",
       "Q 129.0 105.9, 128.2 105.6\n",
       "L 127.6 105.4\n",
       "Q 126.8 105.8, 126.5 106.3\n",
       "Q 126.2 106.9, 126.2 107.5\n",
       "Q 126.2 108.4, 126.8 108.9\n",
       "Q 127.4 109.4, 128.4 109.4\n",
       "' fill='#000000'/>\n",
       "</svg>\n"
      ],
      "text/html": [
       "<?xml version='1.0' encoding='iso-8859-1'?>\n",
       "<svg version='1.1' baseProfile='full'\n",
       "              xmlns='http://www.w3.org/2000/svg'\n",
       "                      xmlns:rdkit='http://www.rdkit.org/xml'\n",
       "                      xmlns:xlink='http://www.w3.org/1999/xlink'\n",
       "                  xml:space='preserve'\n",
       "width='450px' height='150px' viewBox='0 0 450 150'>\n",
       "<!-- END OF HEADER -->\n",
       "<rect style='opacity:1.0;fill:#FFFFFF;stroke:none' width='450.0' height='150.0' x='0.0' y='0.0'> </rect>\n",
       "<path class='bond-0 atom-0 atom-1' d='M 138.9,50.6 L 180.9,26.4' style='fill:none;fill-rule:evenodd;stroke:#000000;stroke-width:2.0px;stroke-linecap:butt;stroke-linejoin:miter;stroke-opacity:1' />\n",
       "<path class='bond-0 atom-0 atom-1' d='M 146.2,54.8 L 180.9,34.8' style='fill:none;fill-rule:evenodd;stroke:#000000;stroke-width:2.0px;stroke-linecap:butt;stroke-linejoin:miter;stroke-opacity:1' />\n",
       "<path class='bond-1 atom-1 atom-2' d='M 180.9,26.4 L 222.9,50.7' style='fill:none;fill-rule:evenodd;stroke:#000000;stroke-width:2.0px;stroke-linecap:butt;stroke-linejoin:miter;stroke-opacity:1' />\n",
       "<path class='bond-2 atom-2 atom-3' d='M 222.9,50.7 L 241.2,44.8' style='fill:none;fill-rule:evenodd;stroke:#000000;stroke-width:2.0px;stroke-linecap:butt;stroke-linejoin:miter;stroke-opacity:1' />\n",
       "<path class='bond-2 atom-2 atom-3' d='M 241.2,44.8 L 259.6,38.8' style='fill:none;fill-rule:evenodd;stroke:#0000FF;stroke-width:2.0px;stroke-linecap:butt;stroke-linejoin:miter;stroke-opacity:1' />\n",
       "<path class='bond-2 atom-2 atom-3' d='M 230.1,56.0 L 246.0,50.9' style='fill:none;fill-rule:evenodd;stroke:#000000;stroke-width:2.0px;stroke-linecap:butt;stroke-linejoin:miter;stroke-opacity:1' />\n",
       "<path class='bond-2 atom-2 atom-3' d='M 246.0,50.9 L 261.8,45.7' style='fill:none;fill-rule:evenodd;stroke:#0000FF;stroke-width:2.0px;stroke-linecap:butt;stroke-linejoin:miter;stroke-opacity:1' />\n",
       "<path class='bond-3 atom-3 atom-4' d='M 277.6,47.6 L 288.8,63.1' style='fill:none;fill-rule:evenodd;stroke:#0000FF;stroke-width:2.0px;stroke-linecap:butt;stroke-linejoin:miter;stroke-opacity:1' />\n",
       "<path class='bond-4 atom-4 atom-5' d='M 288.8,86.9 L 277.6,102.3' style='fill:none;fill-rule:evenodd;stroke:#0000FF;stroke-width:2.0px;stroke-linecap:butt;stroke-linejoin:miter;stroke-opacity:1' />\n",
       "<path class='bond-5 atom-5 atom-6' d='M 259.5,111.1 L 241.2,105.1' style='fill:none;fill-rule:evenodd;stroke:#0000FF;stroke-width:2.0px;stroke-linecap:butt;stroke-linejoin:miter;stroke-opacity:1' />\n",
       "<path class='bond-5 atom-5 atom-6' d='M 241.2,105.1 L 222.8,99.2' style='fill:none;fill-rule:evenodd;stroke:#000000;stroke-width:2.0px;stroke-linecap:butt;stroke-linejoin:miter;stroke-opacity:1' />\n",
       "<path class='bond-5 atom-5 atom-6' d='M 261.8,104.2 L 245.9,99.0' style='fill:none;fill-rule:evenodd;stroke:#0000FF;stroke-width:2.0px;stroke-linecap:butt;stroke-linejoin:miter;stroke-opacity:1' />\n",
       "<path class='bond-5 atom-5 atom-6' d='M 245.9,99.0 L 230.1,93.9' style='fill:none;fill-rule:evenodd;stroke:#000000;stroke-width:2.0px;stroke-linecap:butt;stroke-linejoin:miter;stroke-opacity:1' />\n",
       "<path class='bond-6 atom-6 atom-7' d='M 222.8,99.2 L 180.8,123.4' style='fill:none;fill-rule:evenodd;stroke:#000000;stroke-width:2.0px;stroke-linecap:butt;stroke-linejoin:miter;stroke-opacity:1' />\n",
       "<path class='bond-7 atom-7 atom-8' d='M 180.8,123.4 L 138.9,99.1' style='fill:none;fill-rule:evenodd;stroke:#000000;stroke-width:2.0px;stroke-linecap:butt;stroke-linejoin:miter;stroke-opacity:1' />\n",
       "<path class='bond-7 atom-7 atom-8' d='M 180.8,115.0 L 146.1,94.9' style='fill:none;fill-rule:evenodd;stroke:#000000;stroke-width:2.0px;stroke-linecap:butt;stroke-linejoin:miter;stroke-opacity:1' />\n",
       "<path class='bond-8 atom-8 atom-0' d='M 138.9,99.1 L 138.9,50.6' style='fill:none;fill-rule:evenodd;stroke:#000000;stroke-width:2.0px;stroke-linecap:butt;stroke-linejoin:miter;stroke-opacity:1' />\n",
       "<path class='bond-9 atom-6 atom-2' d='M 222.8,99.2 L 222.9,50.7' style='fill:none;fill-rule:evenodd;stroke:#000000;stroke-width:2.0px;stroke-linecap:butt;stroke-linejoin:miter;stroke-opacity:1' />\n",
       "<path d='M 141.0,49.4 L 138.9,50.6 L 138.9,53.1' style='fill:none;stroke:#000000;stroke-width:2.0px;stroke-linecap:butt;stroke-linejoin:miter;stroke-opacity:1;' />\n",
       "<path d='M 178.8,27.6 L 180.9,26.4 L 183.0,27.6' style='fill:none;stroke:#000000;stroke-width:2.0px;stroke-linecap:butt;stroke-linejoin:miter;stroke-opacity:1;' />\n",
       "<path d='M 182.9,122.2 L 180.8,123.4 L 178.7,122.2' style='fill:none;stroke:#000000;stroke-width:2.0px;stroke-linecap:butt;stroke-linejoin:miter;stroke-opacity:1;' />\n",
       "<path d='M 141.0,100.3 L 138.9,99.1 L 138.9,96.7' style='fill:none;stroke:#000000;stroke-width:2.0px;stroke-linecap:butt;stroke-linejoin:miter;stroke-opacity:1;' />\n",
       "<path class='atom-3' d='M 264.4 25.5\n",
       "L 271.2 36.4\n",
       "Q 271.8 37.4, 272.9 39.4\n",
       "Q 274.0 41.3, 274.0 41.5\n",
       "L 274.0 25.5\n",
       "L 276.8 25.5\n",
       "L 276.8 46.0\n",
       "L 274.0 46.0\n",
       "L 266.7 34.1\n",
       "Q 265.9 32.7, 265.0 31.1\n",
       "Q 264.1 29.5, 263.8 29.0\n",
       "L 263.8 46.0\n",
       "L 261.2 46.0\n",
       "L 261.2 25.5\n",
       "L 264.4 25.5\n",
       "' fill='#0000FF'/>\n",
       "<path class='atom-4' d='M 292.9 64.7\n",
       "L 299.6 75.6\n",
       "Q 300.3 76.7, 301.4 78.6\n",
       "Q 302.4 80.6, 302.5 80.7\n",
       "L 302.5 64.7\n",
       "L 305.2 64.7\n",
       "L 305.2 85.3\n",
       "L 302.4 85.3\n",
       "L 295.2 73.4\n",
       "Q 294.3 72.0, 293.4 70.4\n",
       "Q 292.6 68.8, 292.3 68.3\n",
       "L 292.3 85.3\n",
       "L 289.6 85.3\n",
       "L 289.6 64.7\n",
       "L 292.9 64.7\n",
       "' fill='#0000FF'/>\n",
       "<path class='atom-4' d='M 309.2 64.7\n",
       "L 312.0 64.7\n",
       "L 312.0 73.5\n",
       "L 322.6 73.5\n",
       "L 322.6 64.7\n",
       "L 325.4 64.7\n",
       "L 325.4 85.3\n",
       "L 322.6 85.3\n",
       "L 322.6 75.8\n",
       "L 312.0 75.8\n",
       "L 312.0 85.3\n",
       "L 309.2 85.3\n",
       "L 309.2 64.7\n",
       "' fill='#0000FF'/>\n",
       "<path class='atom-5' d='M 264.4 103.9\n",
       "L 271.1 114.8\n",
       "Q 271.8 115.9, 272.8 117.8\n",
       "Q 273.9 119.8, 274.0 119.9\n",
       "L 274.0 103.9\n",
       "L 276.7 103.9\n",
       "L 276.7 124.5\n",
       "L 273.9 124.5\n",
       "L 266.7 112.6\n",
       "Q 265.8 111.2, 264.9 109.6\n",
       "Q 264.0 108.0, 263.8 107.5\n",
       "L 263.8 124.5\n",
       "L 261.1 124.5\n",
       "L 261.1 103.9\n",
       "L 264.4 103.9\n",
       "' fill='#0000FF'/>\n",
       "<path class='note' d='M 128.4 49.9\n",
       "Q 126.5 49.9, 125.6 48.5\n",
       "Q 124.6 47.1, 124.6 44.6\n",
       "Q 124.6 42.1, 125.6 40.7\n",
       "Q 126.5 39.4, 128.4 39.4\n",
       "Q 130.3 39.4, 131.2 40.7\n",
       "Q 132.2 42.1, 132.2 44.6\n",
       "Q 132.2 47.1, 131.2 48.5\n",
       "Q 130.3 49.9, 128.4 49.9\n",
       "M 128.4 48.7\n",
       "Q 129.5 48.7, 130.1 47.7\n",
       "Q 130.7 46.6, 130.7 44.6\n",
       "Q 130.7 42.6, 130.1 41.6\n",
       "Q 129.5 40.5, 128.4 40.5\n",
       "Q 127.3 40.5, 126.7 41.6\n",
       "Q 126.1 42.6, 126.1 44.6\n",
       "Q 126.1 46.6, 126.7 47.7\n",
       "Q 127.3 48.7, 128.4 48.7\n",
       "' fill='#000000'/>\n",
       "<path class='note' d='M 178.4 18.3\n",
       "L 180.6 18.3\n",
       "L 180.6 10.6\n",
       "L 178.1 11.4\n",
       "L 177.8 10.5\n",
       "L 181.0 9.1\n",
       "L 182.0 9.3\n",
       "L 182.0 18.3\n",
       "L 184.0 18.3\n",
       "L 184.0 19.5\n",
       "L 178.4 19.5\n",
       "L 178.4 18.3\n",
       "' fill='#000000'/>\n",
       "<path class='note' d='M 220.7 35.5\n",
       "Q 221.1 34.5, 222.0 34.0\n",
       "Q 222.9 33.4, 224.1 33.4\n",
       "Q 225.7 33.4, 226.6 34.3\n",
       "Q 227.4 35.1, 227.4 36.6\n",
       "Q 227.4 38.2, 226.3 39.6\n",
       "Q 225.2 41.0, 222.8 42.7\n",
       "L 227.6 42.7\n",
       "L 227.6 43.9\n",
       "L 220.7 43.9\n",
       "L 220.7 42.9\n",
       "Q 222.6 41.5, 223.7 40.5\n",
       "Q 224.9 39.5, 225.4 38.6\n",
       "Q 226.0 37.6, 226.0 36.7\n",
       "Q 226.0 35.7, 225.5 35.2\n",
       "Q 225.0 34.6, 224.1 34.6\n",
       "Q 223.3 34.6, 222.7 34.9\n",
       "Q 222.2 35.3, 221.8 36.0\n",
       "L 220.7 35.5\n",
       "' fill='#000000'/>\n",
       "<path class='note' d='M 278.0 12.5\n",
       "Q 279.0 12.8, 279.4 13.4\n",
       "Q 279.9 14.1, 279.9 15.1\n",
       "Q 279.9 16.0, 279.5 16.6\n",
       "Q 279.1 17.3, 278.3 17.7\n",
       "Q 277.5 18.1, 276.4 18.1\n",
       "Q 275.3 18.1, 274.5 17.7\n",
       "Q 273.7 17.3, 273.0 16.5\n",
       "L 273.8 15.7\n",
       "Q 274.5 16.4, 275.0 16.6\n",
       "Q 275.6 16.9, 276.4 16.9\n",
       "Q 277.3 16.9, 277.9 16.4\n",
       "Q 278.5 15.9, 278.5 15.1\n",
       "Q 278.5 14.0, 277.9 13.6\n",
       "Q 277.3 13.1, 276.0 13.1\n",
       "L 275.3 13.1\n",
       "L 275.3 12.0\n",
       "L 275.9 12.0\n",
       "Q 277.1 12.0, 277.7 11.5\n",
       "Q 278.3 11.0, 278.3 10.1\n",
       "Q 278.3 9.5, 277.8 9.1\n",
       "Q 277.3 8.7, 276.4 8.7\n",
       "Q 275.6 8.7, 275.0 9.0\n",
       "Q 274.5 9.3, 274.1 10.0\n",
       "L 273.1 9.5\n",
       "Q 273.5 8.6, 274.3 8.1\n",
       "Q 275.2 7.5, 276.4 7.5\n",
       "Q 277.9 7.5, 278.8 8.2\n",
       "Q 279.7 8.9, 279.7 10.1\n",
       "Q 279.7 11.0, 279.3 11.6\n",
       "Q 278.8 12.2, 278.0 12.5\n",
       "' fill='#000000'/>\n",
       "<path class='note' d='M 312.3 97.6\n",
       "L 313.5 97.6\n",
       "L 313.5 98.8\n",
       "L 312.3 98.8\n",
       "L 312.3 101.1\n",
       "L 310.9 101.1\n",
       "L 310.9 98.8\n",
       "L 305.6 98.8\n",
       "L 305.6 97.9\n",
       "L 310.1 90.8\n",
       "L 312.3 90.8\n",
       "L 312.3 97.6\n",
       "M 307.3 97.6\n",
       "L 310.9 97.6\n",
       "L 310.9 91.8\n",
       "L 307.3 97.6\n",
       "' fill='#000000'/>\n",
       "<path class='note' d='M 276.6 135.9\n",
       "Q 277.5 135.9, 278.3 136.3\n",
       "Q 279.0 136.7, 279.4 137.4\n",
       "Q 279.9 138.2, 279.9 139.1\n",
       "Q 279.9 140.2, 279.3 141.0\n",
       "Q 278.8 141.7, 278.0 142.1\n",
       "Q 277.1 142.5, 276.2 142.5\n",
       "Q 275.2 142.5, 274.4 142.2\n",
       "Q 273.5 141.8, 272.9 141.1\n",
       "L 273.8 140.2\n",
       "Q 274.3 140.8, 274.9 141.0\n",
       "Q 275.6 141.3, 276.2 141.3\n",
       "Q 277.1 141.3, 277.8 140.8\n",
       "Q 278.4 140.2, 278.4 139.2\n",
       "Q 278.4 138.1, 277.8 137.6\n",
       "Q 277.1 137.0, 276.1 137.0\n",
       "Q 275.2 137.0, 274.2 137.4\n",
       "L 273.4 137.0\n",
       "L 273.9 132.1\n",
       "L 279.2 132.1\n",
       "L 279.1 133.3\n",
       "L 275.1 133.3\n",
       "L 274.8 136.3\n",
       "Q 275.7 135.9, 276.6 135.9\n",
       "' fill='#000000'/>\n",
       "<path class='note' d='M 224.5 110.0\n",
       "Q 225.4 110.0, 226.2 110.4\n",
       "Q 226.9 110.8, 227.3 111.5\n",
       "Q 227.6 112.2, 227.6 113.1\n",
       "Q 227.6 114.1, 227.2 114.9\n",
       "Q 226.8 115.7, 226.0 116.1\n",
       "Q 225.2 116.5, 224.2 116.5\n",
       "Q 222.4 116.5, 221.4 115.3\n",
       "Q 220.5 114.1, 220.5 111.6\n",
       "Q 220.5 108.9, 221.6 107.4\n",
       "Q 222.8 106.0, 225.0 106.0\n",
       "Q 225.6 106.0, 226.2 106.2\n",
       "Q 226.7 106.3, 227.2 106.6\n",
       "L 226.7 107.6\n",
       "Q 225.9 107.2, 225.0 107.2\n",
       "Q 223.5 107.2, 222.8 108.1\n",
       "Q 222.1 109.1, 222.0 111.0\n",
       "Q 222.5 110.5, 223.2 110.3\n",
       "Q 223.8 110.0, 224.5 110.0\n",
       "M 224.2 115.4\n",
       "Q 224.8 115.4, 225.2 115.1\n",
       "Q 225.7 114.8, 225.9 114.3\n",
       "Q 226.2 113.8, 226.2 113.1\n",
       "Q 226.2 112.2, 225.7 111.7\n",
       "Q 225.2 111.2, 224.3 111.2\n",
       "Q 223.6 111.2, 223.0 111.4\n",
       "Q 222.4 111.7, 222.0 112.1\n",
       "Q 222.0 113.8, 222.6 114.6\n",
       "Q 223.1 115.4, 224.2 115.4\n",
       "' fill='#000000'/>\n",
       "<path class='note' d='M 182.8 131.5\n",
       "L 177.4 131.5\n",
       "L 177.4 130.3\n",
       "L 184.2 130.3\n",
       "L 184.2 131.4\n",
       "L 180.1 140.6\n",
       "L 178.7 140.6\n",
       "L 182.8 131.5\n",
       "' fill='#000000'/>\n",
       "<path class='note' d='M 130.0 104.9\n",
       "Q 130.9 105.3, 131.5 105.9\n",
       "Q 132.0 106.5, 132.0 107.5\n",
       "Q 132.0 108.4, 131.6 109.1\n",
       "Q 131.1 109.8, 130.3 110.1\n",
       "Q 129.5 110.5, 128.4 110.5\n",
       "Q 126.7 110.5, 125.7 109.7\n",
       "Q 124.7 108.9, 124.7 107.5\n",
       "Q 124.7 106.7, 125.2 106.1\n",
       "Q 125.6 105.4, 126.5 105.0\n",
       "Q 125.8 104.6, 125.5 104.0\n",
       "Q 125.1 103.5, 125.1 102.6\n",
       "Q 125.1 101.4, 126.0 100.7\n",
       "Q 126.9 100.0, 128.4 100.0\n",
       "Q 129.9 100.0, 130.7 100.7\n",
       "Q 131.6 101.4, 131.6 102.6\n",
       "Q 131.6 103.3, 131.2 103.9\n",
       "Q 130.8 104.5, 130.0 104.9\n",
       "M 128.4 101.0\n",
       "Q 127.5 101.0, 127.0 101.4\n",
       "Q 126.6 101.9, 126.6 102.6\n",
       "Q 126.6 103.1, 126.9 103.5\n",
       "Q 127.2 103.8, 127.7 104.0\n",
       "Q 128.1 104.2, 129.0 104.5\n",
       "Q 129.6 104.1, 129.9 103.6\n",
       "Q 130.2 103.2, 130.2 102.6\n",
       "Q 130.2 101.9, 129.7 101.4\n",
       "Q 129.2 101.0, 128.4 101.0\n",
       "M 128.4 109.4\n",
       "Q 129.4 109.4, 130.0 108.9\n",
       "Q 130.5 108.4, 130.5 107.5\n",
       "Q 130.5 107.0, 130.2 106.6\n",
       "Q 129.9 106.3, 129.5 106.1\n",
       "Q 129.0 105.9, 128.2 105.6\n",
       "L 127.6 105.4\n",
       "Q 126.8 105.8, 126.5 106.3\n",
       "Q 126.2 106.9, 126.2 107.5\n",
       "Q 126.2 108.4, 126.8 108.9\n",
       "Q 127.4 109.4, 128.4 109.4\n",
       "' fill='#000000'/>\n",
       "</svg>\n"
      ],
      "text/plain": [
       "<rdkit.Chem.rdchem.Mol at 0x2dbec6960>"
      ]
     },
     "execution_count": 103,
     "metadata": {},
     "output_type": "execute_result"
    }
   ],
   "source": [
    "mol = Chem.MolFromSmiles('C1=CC2=NNN=C2C=C1')\n",
    "mol"
   ]
  },
  {
   "cell_type": "code",
   "execution_count": 110,
   "metadata": {},
   "outputs": [
    {
     "data": {
      "text/html": [
       "<div>\n",
       "<style scoped>\n",
       "    .dataframe tbody tr th:only-of-type {\n",
       "        vertical-align: middle;\n",
       "    }\n",
       "\n",
       "    .dataframe tbody tr th {\n",
       "        vertical-align: top;\n",
       "    }\n",
       "\n",
       "    .dataframe thead th {\n",
       "        text-align: right;\n",
       "    }\n",
       "</style>\n",
       "<table border=\"1\" class=\"dataframe\">\n",
       "  <thead>\n",
       "    <tr style=\"text-align: right;\">\n",
       "      <th></th>\n",
       "      <th>SMILES</th>\n",
       "      <th>Predicted Corrosion Rate (mpy)</th>\n",
       "    </tr>\n",
       "  </thead>\n",
       "  <tbody>\n",
       "    <tr>\n",
       "      <th>0</th>\n",
       "      <td>[CH2]</td>\n",
       "      <td>1</td>\n",
       "    </tr>\n",
       "    <tr>\n",
       "      <th>1</th>\n",
       "      <td>[CH2]</td>\n",
       "      <td>2</td>\n",
       "    </tr>\n",
       "  </tbody>\n",
       "</table>\n",
       "</div>"
      ],
      "text/plain": [
       "  SMILES  Predicted Corrosion Rate (mpy)\n",
       "0  [CH2]                               1\n",
       "1  [CH2]                               2"
      ]
     },
     "execution_count": 110,
     "metadata": {},
     "output_type": "execute_result"
    }
   ],
   "source": [
    "all_new_smiles=['CC', 'CCC']\n",
    "y_pred_new = [1, 2]\n",
    "data = {'SMILES':smiles, 'Predicted Corrosion Rate (mpy)':y_pred_new}\n",
    "df_new = pd.DataFrame(data)\n",
    "df_new\n"
   ]
  },
  {
   "cell_type": "code",
   "execution_count": null,
   "metadata": {},
   "outputs": [],
   "source": []
  }
 ],
 "metadata": {
  "kernelspec": {
   "display_name": "Python 3",
   "language": "python",
   "name": "python3"
  },
  "language_info": {
   "codemirror_mode": {
    "name": "ipython",
    "version": 3
   },
   "file_extension": ".py",
   "mimetype": "text/x-python",
   "name": "python",
   "nbconvert_exporter": "python",
   "pygments_lexer": "ipython3",
   "version": "3.11.2"
  }
 },
 "nbformat": 4,
 "nbformat_minor": 2
}
